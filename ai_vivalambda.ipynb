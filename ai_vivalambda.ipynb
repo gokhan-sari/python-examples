{
 "cells": [
  {
   "cell_type": "markdown",
   "metadata": {},
   "source": [
    "# Python - Numpy ile Yapay Zeka için Temel Matematik Fonksiyonlar ve Veri Yapıları\n",
    "\n",
    "## Içindekiler\n",
    "\n",
    "1. [Turev, Kismi Turev, Vektor Turevi, Jakobi Matrisi, Zincir Kuralı, Eğim (Gradient) Hesaplamaları](#grad)\n",
    "2. [Operasyon, Hesap Grafigi](#comp-graph)\n",
    "5. [Turev Farki Alimi](#turev-farki)\n",
    "\n"
   ]
  },
  {
   "cell_type": "markdown",
   "metadata": {},
   "source": [
    "## Turev, Zincir Kuralı, Eğim (Gradient) Hesaplamaları <a name=\"grad\"></a>"
   ]
  },
  {
   "cell_type": "code",
   "execution_count": 1,
   "metadata": {},
   "outputs": [],
   "source": [
    "import numpy as np\n",
    "from typing import List, Tuple, Callable\n",
    "from uuid import uuid4\n",
    "import matplotlib.pyplot as plt\n",
    "import pdb\n",
    "\n",
    "\n",
    "def boyut_kontrol(x: np.ndarray, boyut=1):\n",
    "    if x.ndim > boyut:\n",
    "        raise ValueError(\"Arguman: \" + str(boyut) + \n",
    "                         \" boyutuna esit veya az olmali, oysa ki; \" \n",
    "                         + str(x.ndim))"
   ]
  },
  {
   "cell_type": "code",
   "execution_count": 2,
   "metadata": {},
   "outputs": [],
   "source": [
    "mnist_egit = np.genfromtxt(\"../data/mnist_train.csv\",\n",
    "                            delimiter=\",\", \n",
    "                            skip_header=1,\n",
    "                            dtype=np.float,\n",
    "                           max_rows=1000\n",
    "                           )\n",
    "mnist_test = np.genfromtxt(\"../data/mnist_test.csv\", \n",
    "                           delimiter=\",\", \n",
    "                           skip_header=1, \n",
    "                           dtype=np.float, \n",
    "                           max_rows=1000)"
   ]
  },
  {
   "cell_type": "code",
   "execution_count": 3,
   "metadata": {},
   "outputs": [
    {
     "data": {
      "text/plain": [
       "array([981, 221, 725, 866, 234, 681,  50, 606, 254, 433, 581, 691, 731,\n",
       "       298,  40, 700, 844,   1, 292, 976, 856, 677, 674, 568, 357, 194,\n",
       "       776, 140, 721, 775, 648, 655, 767, 366, 609,   7, 801, 278, 701,\n",
       "       685, 549, 919, 248, 245, 518, 203, 868, 332, 473, 797, 664, 260,\n",
       "       342, 108, 562, 930, 824, 429, 350, 859, 434,  56, 150, 306, 894,\n",
       "       164, 666, 943, 230, 310, 116, 488, 799, 250,   9, 275, 451, 764,\n",
       "       837, 290, 965, 969, 870, 328, 470, 137, 404, 877, 197,  64, 173,\n",
       "       740, 408, 343, 789, 708, 412, 249, 755, 214,  42, 141, 131, 567,\n",
       "       536,  36, 240, 452, 174, 765,  57, 162, 415, 937, 407, 854, 191,\n",
       "       256, 852, 354, 413, 398, 474, 668, 886, 370, 296, 266, 148, 268,\n",
       "       511, 257, 445, 978, 779,  33, 699, 860,  48, 817, 418, 715, 959,\n",
       "       485, 176, 353, 649, 293, 223, 385, 960, 980, 512, 653, 993, 510,\n",
       "       968, 291, 188, 914,  47, 436, 129,  84, 215, 127, 958, 475, 517,\n",
       "       643, 848, 639, 597, 584, 400, 553, 384, 233, 615,  86, 728, 120,\n",
       "       287, 448,  45, 224, 435, 491, 578, 202, 166, 261, 489, 262, 383,\n",
       "       486, 836, 774, 843, 863, 813,  76, 596, 796, 830, 659, 160, 157,\n",
       "       963, 462, 362, 742, 525, 477, 702, 906, 831, 726, 531, 739, 107,\n",
       "       450, 271,  97, 519,  53, 614,  52, 356, 810, 934, 686,  61, 487,\n",
       "       537, 871, 718, 307, 956, 890, 946,  32, 829,  54, 644, 572, 483,\n",
       "       106,  25, 752, 872, 671, 857, 948,  98, 931, 625, 661, 119, 944,\n",
       "       219, 149, 979, 349, 675, 750, 579, 229, 390, 521, 910, 602, 835,\n",
       "       441, 730,  88,   6, 190, 414, 732, 590, 611, 128,  15, 853, 546,\n",
       "       988, 987, 545, 198, 280, 724, 704, 397, 122, 482, 382, 401, 938,\n",
       "       395, 970, 682, 636, 616, 286, 352, 200, 758, 667, 326, 431, 154,\n",
       "       372,  26, 811, 318, 909, 534, 478, 209, 145, 895,  41, 458, 940,\n",
       "       538, 189, 167,  16, 321, 193, 749, 591, 717, 338, 479, 736, 595,\n",
       "       177, 509, 887, 814,  67, 998, 748, 712, 678, 447, 461, 795, 446,\n",
       "       805, 480, 788, 391, 242, 420, 656, 365, 575, 267, 706, 402, 792,\n",
       "       599,  38, 421, 377, 992, 720, 687,  73, 714, 923, 284, 936, 228,\n",
       "       273,  22,  51, 962, 410, 416, 642, 816, 989,  87, 637, 607, 301,\n",
       "       544, 312, 933, 359, 527, 118,  35, 745, 506,  80, 368, 771, 440,\n",
       "       899, 975, 303, 409, 942, 515, 428, 964,   2, 264, 547, 902, 646,\n",
       "       880, 346, 554, 199, 849, 360, 225, 867, 530, 806, 915, 454, 846,\n",
       "       631, 123, 237, 289, 246, 680, 670, 610, 309,  69, 558, 330, 753,\n",
       "       820, 927, 101,  83, 974, 463,  27,  18, 588, 497, 178, 617,  90,\n",
       "       449, 973, 761, 907, 904, 144, 406, 778, 912, 329, 182, 888, 709,\n",
       "       204, 905, 947, 555, 468, 334, 647, 405, 613, 669, 600, 551, 300,\n",
       "       995, 996, 566, 800, 768, 785, 443, 889, 539, 152, 652, 756, 345,\n",
       "       967, 520, 922, 911, 476, 804, 924, 825, 341, 376, 585, 351, 564,\n",
       "       780, 183, 305, 524, 134, 592, 950, 641, 690,  58,  68, 984, 432,\n",
       "       917, 399, 918, 828, 516, 862, 560, 620,  55, 624, 612, 873, 217,\n",
       "       236, 583, 379, 952, 807, 580, 738, 707,  66, 951, 542, 865, 565,\n",
       "       878, 559, 563, 212, 294, 490, 155, 928,  14, 367, 165,  13, 729,\n",
       "       985,   0, 839, 252, 808, 711, 569, 777, 769,  89, 541, 110, 741,\n",
       "       630, 903, 442, 153, 994,  63,  74, 269, 465, 232, 713,  78, 650,\n",
       "       573, 508, 689,  77, 375,  37, 138, 241, 222, 570, 419, 324, 105,\n",
       "       196, 697, 255, 535, 901, 977, 971, 484, 133, 622, 673, 576, 876,\n",
       "       124, 147,  11,  23, 629,  72, 822, 381, 693, 955, 818, 142, 283,\n",
       "       112, 320,  95, 481, 688, 734, 104, 457, 263, 348, 719, 605, 582,\n",
       "       626, 393, 344,  59,  21, 247, 676, 640, 635, 380, 929,  31, 782,\n",
       "       459, 759, 208, 503, 472, 939, 916, 156, 982, 577, 387,  44, 274,\n",
       "       926, 757, 125, 658, 841, 874, 308, 499, 392, 935,   3, 781, 698,\n",
       "       672, 218, 259, 751, 251, 159, 997, 953, 883, 893, 314, 627, 986,\n",
       "       504, 695, 299, 884, 557, 882, 694, 552, 735, 460, 550, 207, 231,\n",
       "       467, 522, 456, 561, 760, 327, 501, 168, 618, 532, 662, 864, 507,\n",
       "       126, 187, 594, 493, 424, 226, 285, 302,  39, 121, 571, 396, 638,\n",
       "       363, 180, 827, 913, 464, 304, 875, 466, 238, 833, 337,  71, 812,\n",
       "       496, 762, 660,  17, 288, 161,  94, 336, 754, 920, 103,  30,  28,\n",
       "       439, 723, 201, 737,  79, 921,  46, 403, 696, 608, 766, 651, 954,\n",
       "       710, 169, 276, 235, 772, 891, 427, 949, 426, 783, 598, 394, 113,\n",
       "       227, 339, 378, 111, 798, 323, 136, 787, 139, 784, 417, 832,   8,\n",
       "       628, 179, 270, 632, 316, 925, 322, 793, 587, 990, 213,   5, 102,\n",
       "       117, 657, 438, 803, 498, 243, 966,  99,  43, 679,  60, 158,  49,\n",
       "       258, 389, 143, 181,  34, 494, 469, 277, 195, 453, 114, 331, 619,\n",
       "       386, 601, 840, 422, 743, 654, 747, 603, 163,  29, 347, 295, 281,\n",
       "       186, 297,  10, 556, 705, 340, 961, 898, 184,  81, 847, 206, 703,\n",
       "        82, 185, 455, 109, 842, 115, 896, 770, 855, 528, 272, 100, 683,\n",
       "       529, 834, 151,  75, 211, 773, 265, 786, 502, 851, 897, 411, 746,\n",
       "       319,  20, 826, 505, 604,  62, 430, 170, 892, 645, 423, 879, 633,\n",
       "        93, 838, 744, 809, 634, 861, 763, 623, 210,  70, 815, 513, 722,\n",
       "       444, 716, 791, 908, 374,  24,  92, 471, 991, 369, 589, 355, 819,\n",
       "       437, 663, 335, 279, 192, 361, 317, 540, 500, 132, 957, 665, 364,\n",
       "       794, 282, 858, 253, 175, 171, 388, 205, 727, 514, 802, 543, 621,\n",
       "       733, 325, 216, 900, 684, 135, 523, 220,  91, 586, 244,  19, 311,\n",
       "       845, 945, 315, 932, 492, 593, 548, 972, 692,  12, 526, 313, 373,\n",
       "       983, 885, 574,  96, 790, 881, 146, 533, 869, 130, 371, 239,   4,\n",
       "       941, 358,  85, 495, 821, 172, 823,  65, 850, 333, 425, 999])"
      ]
     },
     "execution_count": 3,
     "metadata": {},
     "output_type": "execute_result"
    }
   ],
   "source": [
    "orneklem_dizini = np.array(list(range(mnist_egit.shape[0])))\n",
    "np.random.shuffle(orneklem_dizini)\n",
    "orneklem_dizini = orneklem_dizini[:2000]\n",
    "orneklem_dizini"
   ]
  },
  {
   "cell_type": "markdown",
   "metadata": {
    "collapsed": true
   },
   "source": [
    "- Turev : Eger $f: \\mathbb{R} \\to \\mathbb{R}$ ise f'in turevi:\n",
    "$$f'(x) = \\lim_{h\\to 0} \\frac{f(x+h) - f(x)}{h}$$\n",
    "\n",
    "Kismi Turev: Eger $f: \\mathbb{R}^n \\to \\mathbb{R}$ ise f'in turevi:\n",
    "$$f'(x_1, ..., x_n) = \\lim_{h\\to0} \\frac{f(x_1, ..., x_i+h, ..., x_n) - f(x_1, ..., x_n)}{h}$$\n",
    "\n",
    "Kismi turevde şu notasyon da kullanılabiliyor: $\\frac{df}{dx}$ f fonksiyonunun x'e gore turevi manasinda\n",
    "\n"
   ]
  },
  {
   "cell_type": "code",
   "execution_count": 4,
   "metadata": {},
   "outputs": [],
   "source": [
    "def turev(f: Callable[[float], float], x: float, h=1e-8) -> float:\n",
    "    \"f fonksiyonunun turevini alir\"\n",
    "    f_t = (f(x + h) - f(x)) / h\n",
    "    return f_t\n",
    "\n",
    "def kismi_turev(f: Callable[[List[float]], float], \n",
    "                argumanlar: list, \n",
    "                arguman_sirasi: int, \n",
    "                h=1e-8) -> np.ndarray:\n",
    "    \"\"\"\n",
    "    kismi turev alimi:\n",
    "    Iki deger alan bir fonksiyon dusunelim:\n",
    "    f(x, y) = x^2 + xy + y^2\n",
    "    f: R x R -> R.\n",
    "    Dikkat Fonksiyon skaler bir çikti veriyor, vektor degil\n",
    "    x,y fonksiyonun argumanlari.\n",
    "    f_x', yani f'in x'e gore turevi => (f(x+h, y) - f(x,y)) / h\n",
    "    f_y', yani f'in y'ye gore turev => (f(x, y+h) - f(x,y)) / h\n",
    "    \n",
    "    Bunu n degerli halde de yazabiliriz:\n",
    "    f(x_1, ..., x_n) = (f(x_1, ..., x_j, ..., x_n) - f(x_1, ..., x_n)) / h\n",
    "    \"\"\"\n",
    "    kopya = argumanlar.copy()\n",
    "    kopya[arguman_sirasi] = kopya[arguman_sirasi] + h\n",
    "    return (f(kopya) - f(argumanlar)) / h\n",
    "\n",
    "def meyil_hesabi(f: Callable[[List[float]], float], \n",
    "                argumanlar: list, \n",
    "                h=1e-8) -> List[float]:\n",
    "    \"\"\"\n",
    "    f'in toplam turevi [f_x'(), f_y'()] ki buna gradyan/meyil (gradient) deniyor\n",
    "    DIKKAT! Arguman sayisi kadar kismi turevi alinmasi gereken deger var.\n",
    "    \"\"\"\n",
    "    meyil: List[float] = []\n",
    "    for sira, arguman in enumerate(argumanlar):\n",
    "        kturev = kismi_turev(f=f, argumanlar=argumanlar, arguman_sirasi=sira)\n",
    "        meyil.append(kturev)\n",
    "    return meyil"
   ]
  },
  {
   "cell_type": "code",
   "execution_count": 5,
   "metadata": {},
   "outputs": [
    {
     "name": "stdout",
     "output_type": "stream",
     "text": [
      "x^2 turevi = 2x => 5^2 turevi 2 * 5 True\n"
     ]
    }
   ],
   "source": [
    "# test edelim\n",
    "def testfn(x): return x * x\n",
    "turev_degeri = turev(testfn, x=5)\n",
    "print(\"x^2 turevi = 2x => 5^2 turevi 2 * 5\", \n",
    "      10 == round(turev_degeri, 3))"
   ]
  },
  {
   "cell_type": "code",
   "execution_count": 6,
   "metadata": {},
   "outputs": [
    {
     "name": "stdout",
     "output_type": "stream",
     "text": [
      "f(x,y) = x^2 + xy + y^2, x=2, y=6\n",
      "f_x'(x,y) = 2x + y => 4 + 6 = 10\n",
      "f_y'(x,y) = 2y + x => 2 + 12 = 14\n",
      "f_x'(x,y) = 10 True\n",
      "f_y'(x,y) = 14 True\n"
     ]
    }
   ],
   "source": [
    "def test_kismi_fn(xs: list): return (xs[0] ** 2) + (xs[0] * xs[1]) + (xs[1] ** 2)\n",
    "# x^2 + xy + y^2\n",
    "# f_x' = 2x + y , f_y' = 2y + x\n",
    "xturev = kismi_turev(f=test_kismi_fn, argumanlar=[2, 6], arguman_sirasi=0)\n",
    "yturev = kismi_turev(f=test_kismi_fn, argumanlar=[2, 6], arguman_sirasi=1)\n",
    "print(\"f(x,y) = x^2 + xy + y^2, x=2, y=6\")\n",
    "print(\"f_x'(x,y) = 2x + y => 4 + 6 = 10\")\n",
    "print(\"f_y'(x,y) = 2y + x => 2 + 12 = 14\")\n",
    "print(\"f_x'(x,y) = 10\", round(xturev, 3) == 10)\n",
    "print(\"f_y'(x,y) = 14\", round(yturev, 3) == 14)"
   ]
  },
  {
   "cell_type": "code",
   "execution_count": 7,
   "metadata": {},
   "outputs": [
    {
     "name": "stdout",
     "output_type": "stream",
     "text": [
      "∇f(x,y), f'in meyili, yani [f_x', f_y'] => [10, 14]\n",
      "∇f(x,y)= [10, 14],  True\n"
     ]
    }
   ],
   "source": [
    "meyil = meyil_hesabi(f=test_kismi_fn, argumanlar=[2, 6])\n",
    "print(\"∇f(x,y), f'in meyili, yani [f_x', f_y'] => [10, 14]\")\n",
    "print(\"∇f(x,y)= [10, 14], \", [round(m, 3) for m in meyil] == [10, 14])"
   ]
  },
  {
   "cell_type": "markdown",
   "metadata": {},
   "source": [
    "Vektor degerli fonksiyon turevi: Eger $f: \\mathbb{R} \\to \\mathbb{R}^n$ ise $f(x) = [f_1(x), ..., f_n(x)]$ demektir, yani $f_i: \\mathbb{R} \\to \\mathbb{R}$\n",
    "\n",
    "Turevi:\n",
    "$$f'(x) = [f_1'(x), f_2'(x), ..., f_n'(x)]$$\n",
    "\n",
    "Daha somut bir ornek: $$f(t) = [t^2, 1/t, t * 2]$$ diyelim, bunu söyle de yazabiliriz:\n",
    "$$f(t) = [g(t), k(t), p(t)]$$.\n",
    "\n",
    "Peki f'in turevi o halde nedir ? Basitçe f'in turevi $f'(t)=[g'(t), k'(t), p'(t)]$\n",
    "\n",
    "Soru su g(t), k(t), nereden geliyor yani bunlari bilmiyorsak ne yapacagiz ?\n",
    "\n",
    "$$f'(t) = \\lim_{h \\to 0} \\frac{f(t+h) - f(t)}{h}$$"
   ]
  },
  {
   "cell_type": "code",
   "execution_count": 8,
   "metadata": {},
   "outputs": [],
   "source": [
    "def vektor_turevi_bilinen(fs: List[Callable[[float], float]], \n",
    "                  x: float,\n",
    "                  h=1e-8)-> List[float]:\n",
    "    eleman_turevleri = []\n",
    "    for f in fs:\n",
    "        eleman_turevi = turev(f, x)\n",
    "        eleman_turevleri.append(eleman_turevi)\n",
    "    return eleman_turevleri\n",
    "\n",
    "def vektor_turevi(f: Callable[[float], List[float]], \n",
    "                 x: float, \n",
    "                 h=1e-8) -> List[float]:\n",
    "    \"vektor turevi alimi\"\n",
    "    return list((np.array(f(x + h)) - np.array(f(x))) / h)"
   ]
  },
  {
   "cell_type": "code",
   "execution_count": 9,
   "metadata": {},
   "outputs": [
    {
     "name": "stdout",
     "output_type": "stream",
     "text": [
      "unsurlar bilindiginde olusan turev True\n",
      "unsurlar bilinmediginde olusan turev True\n"
     ]
    }
   ],
   "source": [
    "# testler\n",
    "def testfn(x): return [x*x, 2 * x, x - 1]\n",
    "# turevi bunun 2x, 2, 1\n",
    "vbilinen = vektor_turevi_bilinen(fs=[lambda x: x*x, \n",
    "                                     lambda x: 2 * x, \n",
    "                                     lambda x: x -1],\n",
    "                                 x=3)\n",
    "print(\"unsurlar bilindiginde olusan turev\", \n",
    "      [round(v, 3) for v in vbilinen] == [6, 2, 1])\n",
    "vbilinmeyen = vektor_turevi(f=testfn, x=3)\n",
    "print(\"unsurlar bilinmediginde olusan turev\", \n",
    "      [round(v, 3) for v in vbilinmeyen] == [6, 2, 1])"
   ]
  },
  {
   "cell_type": "markdown",
   "metadata": {},
   "source": [
    "$x \\in \\mathbb{R}^n$ ve $f(x) \\in \\mathbb{R}^m$. \n",
    "\n",
    "Dolayisiyla: $f: \\mathbb{R}^n \\to \\mathbb{R}^m$\n",
    "\n",
    "Soru basit: $f'(x)$ nedir ?\n",
    "\n",
    "mxn boyutlu jakobi matrisi: $$f'(x)= J(f) = \\pmatrix{\n",
    "f'_1(x_1, ..., x_n)  \\\\\n",
    "f'_2(x_1, ..., x_n) \\\\\n",
    "... \\\\\n",
    "f'_m(x_1, ..., x_n)\n",
    "}$$\n",
    "Daha açik ifadesiyle: \n",
    "$ \\vec{x} = \\{x_1, x_2, ..., x_n\\}$ ve $\\vec{y} = \\{y_1, y_2, ..., y_m\\}$ olsun.\n",
    "$f: x \\to y$ ise f'in turevi onun jakobi matrisidir yani.\n",
    "$$J(f) = \\pmatrix{\n",
    "f_{x_1, y_1}'(x) = \\frac{f(x_1+h, ..., x_n) - f(x)}{h} & ... & f_{x_n, y_1}'(x) = \\frac{f(x_1, ..., x_n+h) - f(x)}{h} \\\\\n",
    "f_{x_1, y_2}'(x) = \\frac{f(x_1+h, ..., x_n) - f(x)}{h} & ... & f_{x_n, y_2}'(x) = \\frac{f(x_1, ..., x_n+h) - f(x)}{h} \\\\\n",
    "\\vdots & ... & \\vdots \\\\\n",
    "f_{x_1, y_m}'(x) = \\frac{f(x_1+h, ..., x_n) - f(x)}{h} & ... & f_{x_n, y_m}'(x) = \\frac{f(x_1, ..., x_n+h) - f(x)}{h}\n",
    "}$$\n",
    "\n",
    "Somutlastiralim:\n",
    "$f(x,y,z) = [(2x + y), 3z/2, y^2+z, 6x]$. \n",
    "\n",
    "$$J(f) = \\pmatrix{\n",
    "2 & 1 & 0 \\\\\n",
    "0 & 0 & \\frac{3}{2} \\\\\n",
    "0 & 2y & 1 \\\\\n",
    "6 & 0 & 0\n",
    "}$$\n",
    "\n",
    "Yine her zamanki soru su olusturan fonksiyonlari bilmiyorsak ne yapacagiz?\n",
    "Turevini aradigimiz fonksiyonunun argumanlarina gore kismi turevini alacagiz. \n",
    "`numpy`'da nasil yapildigini gosteren fonksiyon `jakobi_np_n`."
   ]
  },
  {
   "cell_type": "code",
   "execution_count": 10,
   "metadata": {},
   "outputs": [],
   "source": [
    "def jakobi_bilinen(fs: List[Callable[[List[float]], float]], \n",
    "           argumanlar: List[float], h=1e-8) -> List[List[float]]:\n",
    "    j_mat = []\n",
    "    for f in fs:\n",
    "        f_turev = meyil_hesabi(f=f, argumanlar=argumanlar, h=h)\n",
    "        j_mat.append(f_turev)\n",
    "    return j_mat\n",
    "\n",
    "def jakobi(f: Callable[[List[float]], List[float]], \n",
    "           argumanlar: List[float], \n",
    "           h=1e-8) -> List[List[float]]:\n",
    "    \"\"\n",
    "    yeni_argumanlar = [a for a in argumanlar] \n",
    "    j_mat = []\n",
    "    for i, a in enumerate(argumanlar):\n",
    "        yeni_arg = a + h\n",
    "        yeni_argumanlar[i] = yeni_arg\n",
    "        arg_turevi = list((np.array(f(yeni_argumanlar)) - np.array(f(argumanlar))) / h)\n",
    "        j_mat.append(arg_turevi)\n",
    "        yeni_argumanlar[i] = a\n",
    "    return j_mat\n",
    "\n",
    "def jakobi_np_1d(f: Callable[[np.ndarray], np.ndarray], argumanlar: np.ndarray, h=1e-8):\n",
    "    \"numpy jakobi\"\n",
    "    boyut_kontrol(argumanlar)\n",
    "    sonuc = f(argumanlar)\n",
    "    j_mat = np.zeros((sonuc.size, argumanlar.size), dtype=np.float)\n",
    "    for i, a in enumerate(argumanlar):\n",
    "        yeni_arg = argumanlar.copy()\n",
    "        yeni_arg[i] = a + h\n",
    "        j_mat[:, i] = (f(yeni_arg) - f(argumanlar)) / h \n",
    "    return j_mat\n",
    "\n",
    "def jakobi_np_n(f: Callable[[np.ndarray], np.ndarray], argumanlar: np.ndarray, h=1e-8):\n",
    "    \"\"\"\n",
    "    n boyutlu jakobi tensoru en geneli ve matematiksel olarak en dogru olani\n",
    "    \"\"\"\n",
    "    sonuc = f(argumanlar)\n",
    "    j_mat = np.zeros((*argumanlar.shape, *sonuc.shape), dtype=np.float)\n",
    "    for index in np.ndindex(argumanlar.shape):\n",
    "        yeni_arg = argumanlar.copy()\n",
    "        yeni_arg[index] += h\n",
    "        j_mat[index] = (f(yeni_arg) - f(argumanlar)) / h\n",
    "    return j_mat.reshape((sonuc.size, argumanlar.size))\n",
    "\n",
    "# f: R -> R = f(x) = x ** 2 + 2 / x + 2 = f(3) = 9 + 2/3 + 2\n",
    "# f: R^n -> R f(x, y, z) = x**2 + 2 * y + z = f(3, 4, 5) = 9 + 8 + 5 = 22\n",
    "# f_x(x, y, z), f_y, f_z = 2 * x, 2, 1\n",
    "# [f'_x, f_y, f_z] = [2x, 2, 1]\n",
    "# f(x,y,z) = [x, y, z, 13, 92 * x, 2000 / y]\n"
   ]
  },
  {
   "cell_type": "code",
   "execution_count": 11,
   "metadata": {},
   "outputs": [
    {
     "name": "stdout",
     "output_type": "stream",
     "text": [
      "bilinen jakobi fonksiyon:  [[2.  1.  0. ]\n",
      " [0.  0.  1.5]\n",
      " [0.  2.  1. ]\n",
      " [6.  0.  0. ]]\n",
      "bilinmeyen jakobi fonksiyon:  [[2.  0.  0.  6. ]\n",
      " [1.  0.  2.  0. ]\n",
      " [0.  1.5 1.  0. ]]\n",
      "[ 5.   4.5  4.  12. ]\n",
      "bilinmeyen jakobi np fonksiyon:  [[2.  1.  0. ]\n",
      " [0.  0.  1.5]\n",
      " [0.  2.  1. ]\n",
      " [6.  0.  0. ]]\n"
     ]
    }
   ],
   "source": [
    "def f1(arg: List[float]): return 2*arg[0] + arg[1]\n",
    "def f2(arg: List[float]): return (3 * arg[2]) / 2\n",
    "def f3(arg: List[float]): return arg[1]*arg[1] + arg[2]\n",
    "def f4(arg: List[float]): return 6*arg[0]\n",
    "        \n",
    "def testfn(arg: List[float]): \n",
    "    return [\n",
    "    f1(arg), \n",
    "    f2(arg),\n",
    "    f3(arg),\n",
    "    f4(arg)\n",
    "]\n",
    "j_bilinen = jakobi_bilinen(\n",
    "    fs=[f1,f2,f3,f4], argumanlar=[2,1, 3])\n",
    "print(\"bilinen jakobi fonksiyon: \",\n",
    "      np.around(np.array(j_bilinen), 3))\n",
    "j_bilinmeyen = jakobi(f=testfn, argumanlar=[2,1,3])\n",
    "print(\"bilinmeyen jakobi fonksiyon: \", np.around(np.array(j_bilinmeyen), 3))\n",
    "\n",
    "def testfn_np(arg): \n",
    "    return np.array([\n",
    "    2*arg[0] + arg[1], \n",
    "    (3 * arg[2]) / 2,\n",
    "    arg[1]*arg[1] + arg[2],\n",
    "    6*arg[0]])\n",
    "\n",
    "print(testfn_np([2,1,3]))\n",
    "j_np = jakobi_np_1d(f=testfn_np, argumanlar=np.array([2,1,3], dtype=np.float))\n",
    "print(\"bilinmeyen jakobi np fonksiyon: \",np.around(np.array(j_np), 3))"
   ]
  },
  {
   "cell_type": "code",
   "execution_count": 12,
   "metadata": {},
   "outputs": [
    {
     "name": "stdout",
     "output_type": "stream",
     "text": [
      "bilinmeyen jakobi np n boyutlu fonksiyon:  [[2. 0. 0. 2. 0. 0. 2. 0. 0. 2. 0. 0.]\n",
      " [0. 3. 0. 0. 3. 0. 0. 3. 0. 0. 3. 0.]\n",
      " [0. 0. 4. 0. 0. 4. 0. 0. 4. 0. 0. 4.]]\n",
      "bilinmeyen jakobi np n boyutlu fonksiyon:  [[2. 0. 0. 0. 0. 0. 0. 0. 0. 0. 0. 0.]\n",
      " [0. 2. 0. 0. 0. 0. 0. 0. 0. 0. 0. 0.]\n",
      " [0. 0. 2. 0. 0. 0. 0. 0. 0. 0. 0. 0.]\n",
      " [0. 0. 0. 2. 0. 0. 0. 0. 0. 0. 0. 0.]\n",
      " [0. 0. 0. 0. 3. 0. 0. 0. 0. 0. 0. 0.]\n",
      " [0. 0. 0. 0. 0. 3. 0. 0. 0. 0. 0. 0.]\n",
      " [0. 0. 0. 0. 0. 0. 3. 0. 0. 0. 0. 0.]\n",
      " [0. 0. 0. 0. 0. 0. 0. 3. 0. 0. 0. 0.]\n",
      " [0. 0. 0. 0. 0. 0. 0. 0. 4. 0. 0. 0.]\n",
      " [0. 0. 0. 0. 0. 0. 0. 0. 0. 4. 0. 0.]\n",
      " [0. 0. 0. 0. 0. 0. 0. 0. 0. 0. 4. 0.]\n",
      " [0. 0. 0. 0. 0. 0. 0. 0. 0. 0. 0. 4.]]\n"
     ]
    }
   ],
   "source": [
    "def testfn1(arg):\n",
    "    return np.array([arg[0].sum() * 2, \n",
    "                     arg[1].sum() * 3, \n",
    "                     arg[2].sum() * 4], \n",
    "                    dtype=np.float)\n",
    "\n",
    "def testfn2(arg):\n",
    "    return np.array([arg[0] * 2, \n",
    "                     arg[1] * 3, \n",
    "                     arg[2] * 4], \n",
    "                    dtype=np.float)\n",
    "\n",
    "\n",
    "j_np_n1 = jakobi_np_n(f=testfn1, \n",
    "                      argumanlar=np.array([[1, 2, 3, 4], \n",
    "                                           [5, 6, 7, 8],\n",
    "                                           [9, 10, 11, 12]\n",
    "                                          ], \n",
    "                                          dtype=np.float)\n",
    "                     )\n",
    "\n",
    "j_np_n2 = jakobi_np_n(f=testfn2, \n",
    "                     argumanlar=np.array(\n",
    "                         [[1, 2, 3, 4],\n",
    "                          [5, 6, 7, 8],\n",
    "                          [9, 10, 11, 12]\n",
    "                         ], \n",
    "                         dtype=np.float)\n",
    "                    )\n",
    "\n",
    "\n",
    "print(\"bilinmeyen jakobi np n boyutlu fonksiyon: \",\n",
    "      np.around(j_np_n1, 3)\n",
    "     )\n",
    "\n",
    "print(\"bilinmeyen jakobi np n boyutlu fonksiyon: \",\n",
    "      np.around(j_np_n2, 3)\n",
    "     )"
   ]
  },
  {
   "cell_type": "markdown",
   "metadata": {},
   "source": [
    "$ k(x) = f( g(x) ) $ veya $z = f(y)$ ve $y = g(x)$ \n",
    "\n",
    "\n",
    "$f: \\mathbb{R} \\to \\mathbb{R}$, \n",
    "\n",
    "$g:\\mathbb{R} \\to \\mathbb{R}$ \n",
    "\n",
    "$k:\\mathbb{R} \\to \\mathbb{R}$ \n",
    "\n",
    "\n",
    "Zincir kuralı : \n",
    "$$k'(x) = f'( g(x) ) * g'(x)$$ \n",
    "veya \n",
    "$$\\frac{dz}{dx} = \\frac{dz}{dy} * \\frac{dy}{dx}$$\n",
    "\n"
   ]
  },
  {
   "cell_type": "code",
   "execution_count": 13,
   "metadata": {},
   "outputs": [],
   "source": [
    "def zincirle(f: Callable[[float], float], g: Callable[[float], float], x: float):\n",
    "    \"Zincir kuralini uygular f ve g için\"\n",
    "    g_turev = turev(g, x)\n",
    "    g_deger = g(x)\n",
    "    f_turev = turev(f, g_deger)\n",
    "    return f_turev * g_turev"
   ]
  },
  {
   "cell_type": "code",
   "execution_count": 14,
   "metadata": {},
   "outputs": [
    {
     "name": "stdout",
     "output_type": "stream",
     "text": [
      "turevleri esit mi:  True\n"
     ]
    }
   ],
   "source": [
    "# test zincir\n",
    "def f(x): return 2 * x\n",
    "def g(x): return x * x\n",
    "# turevi 2 * 2x = 4x =1\n",
    "def testfn(x): return f(g(x))\n",
    "print(\"turevleri esit mi: \", \n",
    "      round(turev(testfn, x=2), 3) == round(zincirle(f=f, g=g, x=2), 3))"
   ]
  },
  {
   "cell_type": "markdown",
   "metadata": {},
   "source": [
    "Cok degiskenli fonksiyonlar için zincir kurali:\n",
    "\n",
    "$f: \\mathbb{R}^n \\to \\mathbb{R}^m$, \n",
    "\n",
    "$g:\\mathbb{R}^k \\to \\mathbb{R}^n$\n",
    "\n",
    "$z: \\mathbb{R}^k \\to \\mathbb{R}^m$\n",
    "\n",
    "\n",
    "$z = f(g(x))$\n",
    "\n",
    "\n",
    "$$z'= D_a(f \\circ g) = D_{g(a)}f \\circ D_{a}g$$\n",
    "veya\n",
    "$$J_{f\\circ g}(a) = J_{f}(g(a)) * J_{g}(a)$$"
   ]
  },
  {
   "cell_type": "code",
   "execution_count": 15,
   "metadata": {},
   "outputs": [],
   "source": [
    "def zincirle_vektor(f: Callable[[np.ndarray], np.ndarray], \n",
    "                    g: Callable[[np.ndarray], np.ndarray],\n",
    "                    x: np.ndarray\n",
    "                   ) -> np.ndarray:\n",
    "        \"zincirleme kuralinin vektor fonksiyonlara genislemesi\"\n",
    "        g_degeri = g(x)\n",
    "        g_jakobi = jakobi_np_n(f=g, argumanlar=x)\n",
    "        f_jakobi = jakobi_np_n(f=f, argumanlar=g_degeri)\n",
    "        return np.matmul(f_jakobi, g_jakobi)"
   ]
  },
  {
   "cell_type": "code",
   "execution_count": 16,
   "metadata": {},
   "outputs": [
    {
     "name": "stdout",
     "output_type": "stream",
     "text": [
      "[[1.5 0.  0. ]\n",
      " [0.5 0.  0.5]\n",
      " [0.  2.  0. ]\n",
      " [0.  4.  0. ]]\n"
     ]
    }
   ],
   "source": [
    "# test fn\n",
    "def f(x: np.ndarray): return np.array([x[0]*3 + 2, x[1], x[2]*2, \n",
    "                                       x[0] + x[1]], dtype=np.float)\n",
    "\n",
    "def g(x: np.ndarray): return np.array([x[0] / 2, x[1]*2, x[2]/2], dtype=np.float)\n",
    "\n",
    "arglar = np.array([3, 1, 3], dtype=np.float)\n",
    "jmat = zincirle_vektor(f, g, arglar)\n",
    "print(np.around(jmat, 3))\n"
   ]
  },
  {
   "cell_type": "markdown",
   "metadata": {},
   "source": [
    "## Operasyon, Hesap Grafigi <a name=\"comp-graph\"></a>\n",
    "\n",
    "<figure>\n",
    "<figcaption></figcaption>\n",
    "<img src=\"resimler/hesapGrafigi.png\" alt=\"Hesap Grafigi Ornegi\" width=\"50%\"/>\n",
    "<figcaption>Goodfellow, Bengio, and Courville 2016 (isbn: 978-0-262-03561-3) p.205</figcaption>\n",
    "</figure>"
   ]
  },
  {
   "cell_type": "markdown",
   "metadata": {
    "collapsed": true
   },
   "source": [
    "<figure>\n",
    "<figcaption></figcaption>\n",
    "<img src=\"resimler/hesapGrafigiBasit.png\" alt=\"Hesap Grafigi Egim Alim Ornegi\" width=\"50%\"/>\n",
    "<figcaption>Goodfellow, Bengio, and Courville 2016 (isbn: 978-0-262-03561-3) p.214</figcaption>\n",
    "</figure>"
   ]
  },
  {
   "cell_type": "code",
   "execution_count": 17,
   "metadata": {},
   "outputs": [],
   "source": [
    "class SoyutHesapNoktasi:\n",
    "    def __init__(self):\n",
    "        self.girdi = None\n",
    "        \n",
    "    def hesap_sonucu(self, girdi: np.ndarray):\n",
    "        raise NotImplemented\n",
    "        \n",
    "    def hesap_egimi(self):\n",
    "        raise NotImplemented\n",
    "        \n",
    "    @property\n",
    "    def verdigi(self):\n",
    "        raise NotImplemented\n",
    "        \n",
    "    @property\n",
    "    def egimi(self):\n",
    "        raise NotImplemented\n",
    "        \n",
    "class HesapNoktasi(SoyutHesapNoktasi):\n",
    "    def __init__(self, aldigi=None, yaptigi=lambda x: x):\n",
    "        super().__init__()\n",
    "        self.aldigi = aldigi\n",
    "        self.yaptigi = yaptigi\n",
    "        \n",
    "    def __str__(self):\n",
    "        return (\"Hesap Noktasi:\\nAldigi: \" \n",
    "                + str(self.aldigi.shape) \n",
    "                + \"\\nVerdigi:\" + str(self.verdigi)\n",
    "                + \"\\nYaptigi\" + str(self.yaptigi)\n",
    "               )\n",
    "    @property\n",
    "    def verdigi(self):\n",
    "        return self.hesapla()\n",
    "    \n",
    "    @property\n",
    "    def egimi(self):\n",
    "        return jakobi_np_n(f=self.yaptigi, argumanlar=self.aldigi)\n",
    "        \n",
    "    def hesap_sonucu(self, girdi):\n",
    "        return self.yaptigi(girdi)\n",
    "    \n",
    "    def hesapla(self):\n",
    "        sonuc = self.hesap_sonucu(girdi=self.aldigi)\n",
    "        return sonuc.copy()"
   ]
  },
  {
   "cell_type": "code",
   "execution_count": 18,
   "metadata": {},
   "outputs": [
    {
     "name": "stdout",
     "output_type": "stream",
     "text": [
      "noktanin verdigi:  [1. 9. 4.]\n",
      "noktanin egimi [[2. 0. 0.]\n",
      " [0. 6. 0.]\n",
      " [0. 0. 4.]]\n"
     ]
    }
   ],
   "source": [
    "nokta = HesapNoktasi()\n",
    "nokta.aldigi = np.array([1, 3, 2], dtype=np.float)\n",
    "nokta.yaptigi = lambda x: x ** 2\n",
    "print(\"noktanin verdigi: \", nokta.verdigi)  # 1 9 4\n",
    "print(\"noktanin egimi\", np.around(nokta.egimi, 3)) # 2 6 4"
   ]
  },
  {
   "cell_type": "code",
   "execution_count": 19,
   "metadata": {},
   "outputs": [],
   "source": [
    "class Katman(SoyutHesapNoktasi):\n",
    "    def __init__(self, flistesi: List[Callable[[np.ndarray], np.ndarray]], \n",
    "                 girdi: np.ndarray):\n",
    "        \"Genel hesap katmani (layer)\"\n",
    "        self.aldigi = girdi\n",
    "        self.hesaplar = [HesapNoktasi(yaptigi=f) for f in flistesi]\n",
    "        self.hesaplandi = False\n",
    "        \n",
    "    def hesapla(self):\n",
    "        onceki_girdi = self.aldigi.copy()\n",
    "        on_hesap = self.hesaplar[0]\n",
    "        on_hesap.aldigi = onceki_girdi\n",
    "        for nokta in self.hesaplar[1:]:\n",
    "            nokta.aldigi = on_hesap.verdigi\n",
    "            on_hesap = nokta\n",
    "        self.hesaplandi = True\n",
    "        \n",
    "    def aralik_hesapla(self, limit: int):\n",
    "        \"\"\"\n",
    "        katmandaki hesap akisini tamamen degil\n",
    "        bir yere kadar gerçeklestir\n",
    "        \"\"\"\n",
    "        if limit > len(self.hesaplar):\n",
    "            raise ValueError(\n",
    "                \"Akis siniri hesap noktasi sayisinin uzerinde: verilen \" + str(limit)\n",
    "                + \" sinir \" + str(len(self.hesaplar))\n",
    "            )\n",
    "        noktalar = self.hesaplar[:limit]\n",
    "        onceki_girdi = self.aldigi.copy()\n",
    "        on_hesap = noktalar[0]\n",
    "        on_hesap.aldigi = onceki_girdi\n",
    "        for nokta in noktalar[1:]:\n",
    "            nokta.aldigi = on_hesap.verdigi\n",
    "            on_hesap = nokta\n",
    "        return noktalar\n",
    "    \n",
    "    def aralik_hesapla_girdiyle(self, limit: int, girdi: np.ndarray):\n",
    "        \"\"\"\n",
    "        katmandaki hesap akisini tamamen degil\n",
    "        bir yere kadar gerçeklestir\n",
    "        \"\"\"\n",
    "        if limit > len(self.hesaplar):\n",
    "            raise ValueError(\n",
    "                \"Akis siniri hesap noktasi sayisinin uzerinde: verilen \" + str(limit)\n",
    "                + \" sinir \" + str(len(self.hesaplar))\n",
    "            )\n",
    "        noktalar = self.hesaplar[:limit].copy()\n",
    "        onceki_girdi = girdi.copy()\n",
    "        on_hesap = noktalar[0]\n",
    "        on_hesap.aldigi = onceki_girdi\n",
    "        for nokta in noktalar[1:]:\n",
    "            nokta.aldigi = on_hesap.verdigi\n",
    "            on_hesap = nokta\n",
    "        return noktalar\n",
    "    \n",
    "    def aradan_katman_turevi_al(self, baslangic: int):\n",
    "        \"\"\"\n",
    "        Katman turevi almaya belirli bir yerden basla\n",
    "        \"\"\"\n",
    "        self.hesapla()\n",
    "        if baslangic >= len(self.hesaplar):\n",
    "            raise ValueError(\"Turevi almaya baslamak istediginiz aralik hesap\"+\n",
    "                            \" noktalarina dahil degil: \" + str(baslangic) +\" hesap nokta\"+\n",
    "                            \" sayisi: \"+ str(len(self.hesaplar)))\n",
    "        ilk_hesap = self.hesaplar[baslangic]\n",
    "        ilk_egim = ilk_hesap.egimi\n",
    "        for hesap in self.hesaplar[baslangic+1:]:\n",
    "            egim = hesap.egimi\n",
    "            ilk_egim = np.matmul(egim,ilk_egim)\n",
    "        return ilk_egim\n",
    "            \n",
    "    @property\n",
    "    def verdigi(self):\n",
    "        self.hesapla()\n",
    "        return self.hesaplar[-1].verdigi\n",
    "    \n",
    "    @property\n",
    "    def geriden_turevi(self):\n",
    "        \"katmanda yapilan hesaplarin turevini geriden al (backward accumulation)\"\n",
    "        self.hesapla()\n",
    "        sondan_basa = list(reversed(self.hesaplar))\n",
    "        son_hesap = sondan_basa[0]\n",
    "        son_egim = son_hesap.egimi\n",
    "        for hesap in sondan_basa[1:]:\n",
    "            egim = hesap.egimi\n",
    "            son_egim = np.matmul(son_egim, egim)\n",
    "        return son_egim\n",
    "    \n",
    "    @property\n",
    "    def turevi(self):\n",
    "        \"katmanda yapilan hesaplarin turevini ileriye dogru al (forward accumulation)\"\n",
    "        return self.aradan_katman_turevi_al(baslangic=0)"
   ]
  },
  {
   "cell_type": "code",
   "execution_count": 20,
   "metadata": {},
   "outputs": [
    {
     "name": "stdout",
     "output_type": "stream",
     "text": [
      "[ 6.  5. 14.]\n",
      "[[2. 0. 0.]\n",
      " [0. 0. 0.]\n",
      " [0. 0. 6.]]\n",
      "[[2. 0. 0.]\n",
      " [0. 0. 0.]\n",
      " [0. 0. 6.]]\n"
     ]
    }
   ],
   "source": [
    "def mx(x: np.ndarray): return x * x \n",
    "def gx(x: np.ndarray): return x + 5\n",
    "katman = Katman(flistesi=[mx, gx], girdi=np.array([1,0,3], dtype=np.float))\n",
    "\"\"\"\n",
    "f'(x): [\n",
    " [2. 0. 0.]\n",
    " [0. 0. 0.]\n",
    " [0. 0. 6.]\n",
    " ]\n",
    "g'(x):  [\n",
    " [1. 0. 0.]\n",
    " [0. 1. 0.]\n",
    " [0. 0. 1.]\n",
    " ]\n",
    "\"\"\"\n",
    "\n",
    "print(katman.verdigi)\n",
    "print(np.around(katman.geriden_turevi, 3))\n",
    "print(np.around(katman.turevi, 3))"
   ]
  },
  {
   "cell_type": "code",
   "execution_count": 21,
   "metadata": {},
   "outputs": [],
   "source": [
    "class DogrusalBaglanimKatmani(Katman):\n",
    "    def __init__(self, girdi: np.ndarray):\n",
    "        \"Dogrusal baglanim (linear regression) katmani\"\n",
    "        #boyut_kontrol(girdi)\n",
    "        # rastgele egim veriyoruz\n",
    "        self.egim = np.random.randn(*girdi.shape)\n",
    "        self.sapma = np.zeros_like(self.egim)\n",
    "        def m_x(x: np.ndarray): return x * self.egim\n",
    "        def b_x(x: np.ndarray): return x + self.sapma\n",
    "        def mx_b(x: np.ndarray): return b_x(m_x(x))\n",
    "        super().__init__(flistesi=[m_x, b_x], girdi=girdi.copy())\n",
    "        \n",
    "    @property\n",
    "    def tahmin(self):\n",
    "        \"\"\"\n",
    "        y = mx + b = f(x)\n",
    "        y = f(x)\n",
    "        mx = M(x)\n",
    "        +b = B(x)\n",
    "        f(x) = B(M(x)) = mx + b\n",
    "        \"\"\"\n",
    "        return self.verdigi"
   ]
  },
  {
   "cell_type": "code",
   "execution_count": 22,
   "metadata": {},
   "outputs": [],
   "source": [
    "girdi = np.array([[6, 5], [2, 1], [9, 3]], dtype=np.float)\n",
    "DBK = DogrusalBaglanimKatmani(girdi=girdi)"
   ]
  },
  {
   "cell_type": "code",
   "execution_count": 23,
   "metadata": {},
   "outputs": [],
   "source": [
    "# olmasi gereken değerler\n",
    "dbk_egim = np.array([[0.5, 0.5], [0.5, 0.5], [3, 3]], dtype=np.float)\n",
    "dbk_sapma = np.array([[1,1], [1,1], [0,0]], dtype=np.float)\n",
    "dbk_hedef = np.array([[4, 3.5], [2, 1.5], [27, 9]])"
   ]
  },
  {
   "cell_type": "code",
   "execution_count": 24,
   "metadata": {},
   "outputs": [
    {
     "name": "stdout",
     "output_type": "stream",
     "text": [
      "tahmin:  [[ 0.11585966 -1.52629353]\n",
      " [ 2.17511226  0.30481344]\n",
      " [-2.83954146  1.99886652]]\n",
      "beklenen tahmin:  [[ 4.   3.5]\n",
      " [ 2.   1.5]\n",
      " [27.   9. ]]\n",
      "egim matrisi:  [[ 0.019 -0.305]\n",
      " [ 1.088  0.305]\n",
      " [-0.316  0.666]]\n",
      "beklenen egim:  [[0.5 0.5]\n",
      " [0.5 0.5]\n",
      " [3.  3. ]]\n",
      "katman egimi:  [[ 0.019  0.     0.     0.     0.     0.   ]\n",
      " [ 0.    -0.305  0.     0.     0.     0.   ]\n",
      " [ 0.     0.     1.088  0.     0.     0.   ]\n",
      " [ 0.     0.     0.     0.305  0.     0.   ]\n",
      " [ 0.     0.     0.     0.    -0.316  0.   ]\n",
      " [ 0.     0.     0.     0.     0.     0.666]]\n"
     ]
    }
   ],
   "source": [
    "print(\"tahmin: \", DBK.verdigi)\n",
    "print(\"beklenen tahmin: \", dbk_hedef)\n",
    "print(\"egim matrisi: \", np.around(DBK.egim, 3))\n",
    "print(\"beklenen egim: \", dbk_egim)\n",
    "print(\"katman egimi: \", np.around(DBK.turevi, 3))"
   ]
  },
  {
   "cell_type": "markdown",
   "metadata": {},
   "source": [
    "## Turev Farki Alimi <a name=\"turev-farki\"></a>\n"
   ]
  },
  {
   "cell_type": "markdown",
   "metadata": {},
   "source": [
    "~~Ne oldu ? Dogrusal Baglanim Katmani ya da Dogrusal Regresiyon Katmani, tam olarak ne yapti ?~~\n",
    "\n",
    "\n",
    "Bunlar yanlis sorular.\n",
    "Dogru soru su: Dogrusal Baglanim Katmani nasil bir fonksiyon, nasil bir islem ? Tanim kumesi ve varis kumesi nedir ? Formel olarak DBK söyle tanimlanabilir:\n",
    "\n",
    "$DBK: \\mathbb{R}^n \\to \\mathbb{R}^n$ yani n boyutlu bir tanim kumesinden, n boyutlu bir varis kumesine islem.\n",
    "\n",
    "Soru şu başlangıçtaki tahminden, istenen tahmine nasıl varacağız ?\n",
    "\n",
    "\n",
    "Tahmini veren ne idi, **egim** ve **sapma**. \n",
    "\n",
    "Demek ki **başlangıçtaki eğim ve sapmayı, istenen eğim ve sapmaya götürmenin bir yolunu bulmamız lazım.**"
   ]
  },
  {
   "cell_type": "markdown",
   "metadata": {},
   "source": [
    "Bunu şöyle söyleyelim. \n",
    "Eğimi ve sapmayı öyle bir ayarlayalım ki varılan tahmin ile istenen tahmin arasındaki mesafeyi azaltsın, yani eğimin ve sapmanın değerlerini öyle bir değiştirelim ki bize her seferinde daha yakın bir tahmin versin. Yapmak istediğimiz şey şu:\n",
    "\n",
    "1. Mevcut eğim ve sapma ile bir tahmin yapıldı\n",
    "2. Varılan tahmin ile istenen tahmin arasındaki fark ölçüldü\n",
    "3. Eğer fark büyük ise mevcut eğim ve sapmayı biraz değiştirdik\n",
    "4. Yeni egim ve sapma ile yeni bir tahmin yaptik.\n",
    "5. 2'den itibaren tekrar.\n",
    "\n",
    "Burada mesele olan şey tahminlerin arasındaki farkın büyümesine veya küçülmesine göre yeni kullanılacak eğim ve sapmayı hesaplamak.\n",
    "\n",
    "Dolayısıyla iki nokta var. Tahminler arasındaki farkı almak.\n",
    "Bu farkın büyüp küçülmesine göre yeni eğim ve sapma değeri hesaplamak.\n",
    "\n",
    "Fark alım kısmını yapana fiyat fonksiyonu (cost function) deniyor. \n",
    "Yeni eğim ve sapma değeri hesaplama kısmıysa optimizasyon oluyor.\n",
    "\n",
    "Bu ikisi genelde iç içe geçer, ama formel bir ayrıma gitmek istersek yukarıdakini söyleyebiliriz."
   ]
  },
  {
   "cell_type": "markdown",
   "metadata": {},
   "source": [
    "Fark alım kısmı için: $$(t - \\hat{t})^2$$ islemini kullanalım yani hesaplanan tahmin $\\hat{t}$ ile ulaşmak istediğimiz tahmin $t$ arasındaki farkın karesi. \n",
    "Niye bu fonksiyonu kullanıyoruz:\n",
    "\n",
    "1. Her zaman pozitif bir sonuç veriyor, yani istediğimiz hedeften negatif şekilde de uzaklaşsa, pozitif şekilde de uzaklaşsa bize uzaklaşma mesafesini pozitif olarak veriyor.\n",
    "2. Hassas yani aradaki farkları büyütüyor. Azıcık bile uzaklaşsak bunu hemen yansıtıyor.\n",
    "\n",
    "Ama fiyat fonksiyonlarında esas olan ilkini sağlamak. Ikincisi uygulama detayı."
   ]
  },
  {
   "cell_type": "markdown",
   "metadata": {},
   "source": [
    "Optimizasyon içinse türeve bakalım. Neden ?\n",
    "Çünkü türev bize fiyat fonksiyonunun eğime ve sapmaya göre değişiminin yönünü veriyor. \n",
    "\n",
    "\n",
    "Yani türev bize fiyat fonksiyonunun eğime ve sapmaya göre pozitif mi negatif mi değiştiğini veriyor. \n",
    "\n",
    "\n",
    "Burada önemli olan şu bizim ekstra bir kontrol yapmamız örneğin önceden hesaplanan fark değerini tutup, yeni hesaplanan fark değeriyle karşılaştırmamız gerekmiyor, türev bize otomatik olarak, fark arttıysa büyük bir değer veriyor fark azaldıysa küçük bir değer veriyor."
   ]
  },
  {
   "cell_type": "markdown",
   "metadata": {},
   "source": [
    "Bu söylediklerimizi formelleştirelim. Fiyat fonksiyonumuz $F$ olsun. $X$ te eğim olsun. Biz şunu yapmaya çalışıyoruz:\n",
    "\n",
    "$F(X)$ öyle ki $X = \\{ x_1, x_2, ..., x_n \\}$ ve $F: \\mathbb{R}^n \\to \\mathbb{R}^m$\n",
    "\n",
    "$F(X_1) \\ge F(X_2) \\ge F(X_3) \\ge ...$\n",
    "\n",
    "Bunu yapmanın en hızlı yolu $$X_{n+1} = X_n - \\eta \\nabla{F(X_n)}$$. Yani verilen türevin tersi yönünde gidecek şekilde parametreyi ayarlamak. Neden ? Bu denklemi bir daha yazalım:\n",
    "$$ \\eta (\\lim_{h \\to 0} \\frac{F(X_n + h) - F(X_n)}{h}) = X_n - X_{n+1}$$\n",
    "$$ \\frac{F(X_n + h) - F(X_n)}{h} = \\frac{X_n - X_{n+1}}{\\eta}$$\n"
   ]
  },
  {
   "cell_type": "markdown",
   "metadata": {},
   "source": [
    "Bunu tam bir ispat olarak değil ama sezdirmesi için şöyle okuyabiliriz.\n",
    "\n",
    "$X_n +h$ F fonksiyonunun tanımlandığı kümede bir eleman, tıpkı $X_n$ gibi. \n",
    "Aralarındaki ilişki de şu $X_n + h$, $X_n$'in $h$ mesafesindeki civarında kalıyor. \n",
    "$h$ çok küçük bir sayı, neredeyse 0, yani $X_n + h$ neredeyse değiyor $X_n$'e.\n",
    "\n",
    "F'in **tanımlandığı* en küçük değeri araştırırken, önceki değere, örneğin $X_1$'e $X_n + h$ muamelesi yaparak sonraki değeri, yani $X_n$'i yani $X_2$'yi bulmaya çalışıyoruz.\n",
    "\n",
    "Yineliyorum, F'e girdi olarak gelen en küçük değeri bulmaya çalışıyoruz yaptığımız şey bu. Bunu yaparken her yeni gelen değere $X_n + h$ imis gibi davranıp ondan $X_n$ bulmaya çalışıyoruz. Hızlıca bir örnek görelim:"
   ]
  },
  {
   "cell_type": "code",
   "execution_count": 25,
   "metadata": {},
   "outputs": [
    {
     "name": "stdout",
     "output_type": "stream",
     "text": [
      "ilk hali 650\n",
      "minimum alabilecegi girdi:  2.2499646011249155\n",
      "son hali -6.54296873731283\n",
      "deneme:  1.9570489470881054\n"
     ]
    }
   ],
   "source": [
    "# https://en.wikipedia.org/wiki/Gradient_descent\n",
    "# degerleri oradan aldim\n",
    "def fiyat_fn(x: float): \n",
    "    return x ** 4 - 3 * (x ** 3) + 2 \n",
    "\n",
    "# 2.249964 civarinda olmali\n",
    "\n",
    "girdi = 6\n",
    "basamak = 0.01\n",
    "kabul_edilebilir_kesinlik = 0.00001\n",
    "print(\"ilk hali\", fiyat_fn(girdi))\n",
    "\n",
    "# X_{n+1} = X_n - eta * f'(X_n)\n",
    "for i in range(1000):\n",
    "    f_girdi = girdi\n",
    "    # X_{n+1} = X_n - eta * f'(X_n)\n",
    "    girdi = f_girdi - basamak * turev(fiyat_fn, f_girdi)\n",
    "    if abs(girdi - f_girdi) <= kabul_edilebilir_kesinlik:\n",
    "        break\n",
    "        \n",
    "print(\"minimum alabilecegi girdi: \", girdi)\n",
    "print(\"son hali\", fiyat_fn(girdi))\n",
    "print(\"deneme: \", fiyat_fn(girdi - 2))"
   ]
  },
  {
   "cell_type": "markdown",
   "metadata": {},
   "source": [
    "Hadi bunu görselleştirelim"
   ]
  },
  {
   "cell_type": "code",
   "execution_count": 26,
   "metadata": {},
   "outputs": [],
   "source": [
    "def turev_farki_indir(girdi: float, \n",
    "                      fn: Callable[[float], float],\n",
    "                      basamak=0.01, \n",
    "                      kabul_edilebilir_kesinlik=0.00001,\n",
    "                     dongu_sayisi=1000):\n",
    "    hesaplar = []\n",
    "    for i in range(dongu_sayisi):\n",
    "        f_girdi = girdi\n",
    "        girdi = f_girdi - basamak * turev(fn, f_girdi)\n",
    "        hesaplar.append((girdi, fn(girdi)))\n",
    "        if abs(girdi - f_girdi) <= kabul_edilebilir_kesinlik:\n",
    "            break\n",
    "    return hesaplar"
   ]
  },
  {
   "cell_type": "code",
   "execution_count": 27,
   "metadata": {},
   "outputs": [
    {
     "name": "stdout",
     "output_type": "stream",
     "text": [
      "(70, 2)\n"
     ]
    },
    {
     "data": {
      "image/png": "[encoded data removed]",
      "text/plain": [
       "<Figure size 432x288 with 2 Axes>"
      ]
     },
     "metadata": {
      "needs_background": "light"
     },
     "output_type": "display_data"
    }
   ],
   "source": [
    "hesaplar = np.array(turev_farki_indir(girdi=6, fn=fiyat_fn))\n",
    "print(hesaplar.shape)\n",
    "fig, axes = plt.subplots(nrows=1, ncols=2)\n",
    "axes[0].set_title(\"girdiler\")\n",
    "axes[0].plot(hesaplar[:, 0], \"r\")\n",
    "axes[1].set_title(\"çıktılar\")\n",
    "axes[1].plot(hesaplar[:, 1], \"g\")\n",
    "\n",
    "plt.show()"
   ]
  },
  {
   "cell_type": "markdown",
   "metadata": {},
   "source": [
    "Dolayısıyla 40. döngü civarında en düşük çıktı veren girdiye varıyoruz.\n",
    "\n",
    "Bütün bu söylediklerimizi katmanlara uygulayalim."
   ]
  },
  {
   "cell_type": "code",
   "execution_count": 28,
   "metadata": {},
   "outputs": [],
   "source": [
    "class FiyatKatmaniSabitBoyut(Katman):\n",
    "    def __init__(self, \n",
    "                 girdi: np.ndarray, \n",
    "                 hedef: np.ndarray):\n",
    "        \"Fiyat Fonksiyonu katmani\"\n",
    "        #boyut_kontrol(girdi)\n",
    "        self.egim = np.random.randn(*girdi.shape)\n",
    "        self.sapma = np.zeros_like(self.egim, dtype=np.float)\n",
    "        self.hedef = hedef.copy()\n",
    "\n",
    "        def m_x_arti_b(x: np.ndarray): return x * self.egim + self.sapma\n",
    "        # hata fonksiyonu baslar\n",
    "        def fiyat_fn(x: np.ndarray): return np.power(x - self.hedef, 2) / x.size\n",
    "        # hata fonksiyonu biter\n",
    "        super().__init__(flistesi=[m_x_arti_b, fiyat_fn], girdi=girdi.copy())"
   ]
  },
  {
   "cell_type": "code",
   "execution_count": 29,
   "metadata": {},
   "outputs": [],
   "source": [
    "# yakinsamaya çalıştığımız fonksiyon\n",
    "# f(x): 2x + 2 \n",
    "girdi = np.array([6, 10, 2], dtype=np.float)\n",
    "hedef = np.array([14, 22, 6], dtype=np.float)"
   ]
  },
  {
   "cell_type": "code",
   "execution_count": 30,
   "metadata": {},
   "outputs": [],
   "source": [
    "def turev_farki_indir_katman(girdi_: np.ndarray, \n",
    "                             hedef_: np.ndarray,\n",
    "                             katmanTipi=\"fiyat\",\n",
    "                             basamak=0.01, \n",
    "                             kabul_edilebilir_kesinlik=0.00001,\n",
    "                             dongu_sayisi=1000):\n",
    "    if girdi_.shape != hedef_.shape:\n",
    "        raise ValueError('girdi ve hedeflerin boyutu ayni olmali')\n",
    "    if katmanTipi == \"fiyat\":\n",
    "        Katman = FiyatKatmaniSabitBoyut\n",
    "    girdi = girdi_.copy()\n",
    "    hedef = hedef_.copy()\n",
    "    katman = Katman(girdi=girdi, hedef=hedef)\n",
    "    egimler = []\n",
    "    sapmalar = []\n",
    "    verilenler = []\n",
    "    alinanlar = []\n",
    "    # pdb.set_trace()\n",
    "    for i in range(dongu_sayisi):\n",
    "        # asil olay\n",
    "        egim = katman.egim\n",
    "        sapma = katman.sapma\n",
    "        katman_turevi = katman.turevi\n",
    "        # jakobi matrisinin çaprazi\n",
    "        # istedigimiz egimi veriyor\n",
    "        # zira lineer fonksiyonlarin kismi turevi\n",
    "        # degerlendirilirken her bir arguman ele alindigindan\n",
    "        # turev matrisi sifirla dolu oluyor\n",
    "        katman_egimi = katman_turevi.diagonal()\n",
    "        katman_egimi = katman_egimi.reshape(*girdi.shape)\n",
    "        #\n",
    "        yeni_egim = egim - basamak * katman_egimi\n",
    "        yeni_sapma = sapma - basamak * katman_egimi\n",
    "        katman.egim = yeni_egim\n",
    "        katman.sapma = yeni_sapma\n",
    "        #\n",
    "        egimler.append(egim)\n",
    "        sapmalar.append(sapma)\n",
    "        verilenler.append(katman.verdigi)\n",
    "        alinanlar.append(katman.hesaplar[-1].aldigi)\n",
    "        if abs(yeni_egim.sum()) <= kabul_edilebilir_kesinlik:\n",
    "            break\n",
    "        elif abs(yeni_sapma.sum()) <= kabul_edilebilir_kesinlik:\n",
    "            break\n",
    "    return egimler, sapmalar, verilenler, alinanlar, katman"
   ]
  },
  {
   "cell_type": "code",
   "execution_count": 31,
   "metadata": {},
   "outputs": [],
   "source": [
    "veriler = turev_farki_indir_katman(girdi_=girdi, hedef_=hedef, dongu_sayisi=200)\n",
    "katman = veriler[4]\n",
    "hesaplar = [np.array(a) for a in veriler[:4]]"
   ]
  },
  {
   "cell_type": "code",
   "execution_count": 32,
   "metadata": {},
   "outputs": [],
   "source": [
    "def hesabi_goster(indeks: int, hesaplar: list, aralik=100, baslangic=800):\n",
    "    fig, axes = plt.subplots(nrows=2, ncols=2)\n",
    "    axes[0, 0].set_title(\"egimler\")\n",
    "    axes[0, 0].plot(hesaplar[0][baslangic:baslangic+aralik, indeks], \"r\")\n",
    "    axes[0, 1].set_title(\"sapmalar\")\n",
    "    axes[0, 1].plot(hesaplar[1][baslangic:baslangic+aralik, indeks], \"g\")\n",
    "    axes[1, 0].set_title(\"verilenler\")\n",
    "    axes[1, 0].plot(hesaplar[2][baslangic:baslangic+aralik, indeks], \"black\")\n",
    "    axes[1, 1].set_title(\"alinanlar\")\n",
    "    axes[1, 1].plot(hesaplar[3][baslangic:baslangic+aralik, indeks], \"blue\")\n",
    "    plt.tight_layout(True)\n",
    "    plt.show()"
   ]
  },
  {
   "cell_type": "code",
   "execution_count": 33,
   "metadata": {},
   "outputs": [
    {
     "data": {
      "image/png": "[encoded data removed]",
      "text/plain": [
       "<Figure size 432x288 with 4 Axes>"
      ]
     },
     "metadata": {
      "needs_background": "light"
     },
     "output_type": "display_data"
    }
   ],
   "source": [
    "hesabi_goster(indeks=2, hesaplar=hesaplar, aralik=190, baslangic=0 )"
   ]
  },
  {
   "cell_type": "code",
   "execution_count": 34,
   "metadata": {},
   "outputs": [
    {
     "name": "stdout",
     "output_type": "stream",
     "text": [
      "[-27962914448.863, 19.94, -2691250243.499]\n"
     ]
    }
   ],
   "source": [
    "# yakinsamaya çalıştığımız fonksiyon\n",
    "# f(x): 2x + 2\n",
    "# x = 9\n",
    "# tahmin olarak bize \n",
    "mx_arti_b_noktasi = katman.hesaplar[0]\n",
    "tahmin = mx_arti_b_noktasi.hesap_sonucu(girdi=np.array([9]))\n",
    "yuvarlak = [np.around(t, 3) for t in tahmin]\n",
    "print(yuvarlak)"
   ]
  },
  {
   "cell_type": "code",
   "execution_count": 35,
   "metadata": {},
   "outputs": [],
   "source": [
    "# yakinsamaya çalıştığımız fonksiyon\n"
   ]
  },
  {
   "cell_type": "code",
   "execution_count": 36,
   "metadata": {},
   "outputs": [],
   "source": [
    "veriler1 = turev_farki_indir_katman(girdi_=girdi1, hedef_=hedef1)\n",
    "katman1 = veriler1[4]\n",
    "hesaplar2 = [np.array(a) for a in veriler1[:4]]"
   ]
  },
  {
   "cell_type": "code",
   "execution_count": 37,
   "metadata": {},
   "outputs": [
    {
     "data": {
      "image/png": "[encoded data removed]",
      "text/plain": [
       "<Figure size 432x288 with 4 Axes>"
      ]
     },
     "metadata": {
      "needs_background": "light"
     },
     "output_type": "display_data"
    }
   ],
   "source": [
    "hesabi_goster(indeks=0, hesaplar=hesaplar2, aralik=100, baslangic=0)"
   ]
  },
  {
   "cell_type": "code",
   "execution_count": 38,
   "metadata": {},
   "outputs": [
    {
     "name": "stdout",
     "output_type": "stream",
     "text": [
      "[array([-6.47876081e+12, -2.92671530e+11]), array([-8.78112002e+13,  1.80000000e+01]), array([17.449, 21.246])]\n"
     ]
    }
   ],
   "source": [
    "mx_arti_b_noktasi = katman1.hesaplar[0]\n",
    "tahmin = mx_arti_b_noktasi.hesap_sonucu(girdi=np.array([[7, 8]]))\n",
    "yuvarlak = [np.around(t, 3) for t in tahmin]\n",
    "print(yuvarlak)"
   ]
  },
  {
   "cell_type": "markdown",
   "metadata": {},
   "source": [
    "Su zamana kadar hep dogrusal fonksiyonlarla ugrastik, yani $\\mathbb{R}^n \\to \\mathbb{R}^n$ fonksiyonlarla ugrastik. \n",
    "Ancak bize gelen veriler, ozellikle gerçek hayatta kullandigimiz veriler her zaman dogrusal degiller. \n",
    "Ornegin bir resim matrisinden, resmin içindeki sayiyi yakalama gibi bir problem ile ugrasirken, girdimiz bir matris, çiktimiz ise bir sayi yani $\\mathbb{R}^n \\to \\mathbb{R}$.\n",
    "Problemi genel olarak ifade edelim: \n",
    "\n",
    "- Girdimiz: $\\mathbb{R}^n$\n",
    "- Çıktımız: $\\mathbb{R}^m$\n",
    "\n",
    "Ne yapacağız ?"
   ]
  },
  {
   "cell_type": "markdown",
   "metadata": {},
   "source": [
    "\n",
    "Burada matematiksel olarak degisen fazla bir sey yok. \n",
    "Araya yeni fonksiyonlar ekleyerek girdi ile çikti arasindaki boyut farkini esitlemeye çalisiyoruz.\n",
    "Ancak bakis açisi olarak durdugumuz noktayi degistiriyoruz.\n",
    "\n",
    "Artik girdimiz ile çiktimiz arasindaki iliski dogrusal modellenmiyor, olasilik olarak modelleniyor.\n",
    "Dolayisiyla $f(x) = y$ arasindaki iliski artik $p(x)=y$. \n",
    "\n",
    "Bunu soyle okuyalim. $x$ verildiginde $y$ gozlendi.\n",
    "Verilen ile gozlenen arasindaki iliskiyi dogrusal olarak varsayalim, yani\n",
    "$mx + b = y$ olarak *varsayalim*.\n",
    "\n",
    "Bunun bir varsayim oldugunu unutmayalim, zira bu varsayim dogru olmak zorunda degil, dolayisiyla verilen ile gozlenen arasindaki iliskinin ne oldugunu biliyorsak, bu varsayimi yapmadan o fonksiyonu kullanmak daha iyi bir sonuç verecektir.\n",
    "\n",
    "Yukaridaki iliskiyi olasilik olarak tarif etmek istedigimizde soyle bir ifade yaziyoruz: \n",
    "$$p(x; \\theta ) = y \\hspace{0.5cm}\\theta=[m, b]$$ \n",
    "\n",
    "Bunu soyle okuyalim.\n",
    "Theta parametreleri ile belirlenmis x verildiginde y gozluyoruz. \n",
    "Olasilik hesaplarinin onemli bir ozelligi var, o da bir sonucu veren olasiliklarin toplami 1'i geçemez.\n",
    "Yine notasyon olarak su da kullaniliyor: $p(y|x;\\theta)$. Bunu da ayni sekilde okuyabiliriz, theta ile belirlenmis x verili oldugunda y gozleniyor.\n",
    "Theta ile verilen parametreleri kullanarak hipotezler kurgulayabiliriz. \n",
    "Yani\n",
    "$h_{\\theta_1}(x) = y$, $h_{\\theta_2}(x) = y$, ..., $h_{\\theta_n}(x)=y$.\n",
    "Diyelim ki toplam da iki tane olasilik var:\n",
    "\n",
    "- x verili oldugunda y gozleniyor.\n",
    "- x verili oldugunda ~y gozleniyor.\n",
    "\n",
    "O halde x verili oldugunda y gozlenme ihtimali 0.5dir, ve yine x verili oldugunda ~y gozlenme ihtimali 0.5dir.\n",
    "\n",
    "x ornegin bir sayi olsun: $x=75$, y de baska bir sayi olsun $y=3$. 75 verili oldugunda 3 gozleme ihtimali 0.5 ifadesini nasil saglayacagiz.\n",
    "Yani oyle bir fonksiyon lazim ki bize girdileri ihtimallere donusturebilmeli.\n",
    "\n",
    "Bu fonksiyonun imzasi su: $$f: \\mathbb{R} \\to (0, 1]$$. Yani bir gerçek sayiyi aliyor herhangi bir turden girdiyi vs alip, onu 0, 1 araligina koyuyor, bu aralik da zaten olasilik araligi.\n",
    "\n",
    "Bu isi yapan fonksiyonlardan biri lojistik fonksiyonu olarak biliniyor: \n",
    "$$s(x) = \\frac{e^x}{1+e^{x}}$$\n",
    "Yineliyorum burada mesele lojistik fonksiyonu da degil,\n",
    "mesele geleni 0 ile 1 arasina çekmekte, zira boylelikle geleni bir olasilik gibi degerlendirebiliyoruz.\n",
    "\n",
    "Problem su: Elimde bir grup girdi ve bir grup çikti var.\n",
    "Bu ikisini birbirine esledigini varsaydigim bir fonksiyonum var ($mx +b$). \n",
    "$m$ ve $b$yi yakinsamak istiyorum, ancak veriler birbirinden bagimsiz gozlemlerden olusuyor, ve esasen girdim ve çiktim arasindaki iliskinin dogrusal olup olmadigini da\n",
    "bilmiyorum. \n",
    "\n",
    "Yapilmasi gereken sey su, eldeki parametreler ile bir hipotez uretip o hipotezi ilgili verinin hedefiyle test etmek, ve bu hedefe yakinlik veya uzakliga gore parametreleri guncellemek, yani basindan beri yaptigimiz sey.\n",
    "\n",
    "Burada temel problem kullanilacak fiyat fonksiyonunun yapisinda, zira lojistik fonksiyonu bize bir olasilik veriyor. \n",
    "\n",
    "Bir ornegini gorelim."
   ]
  },
  {
   "cell_type": "code",
   "execution_count": 39,
   "metadata": {},
   "outputs": [],
   "source": [
    "# sayilar wikipedia'dan alinmistir\n",
    "# https://en.wikipedia.org/wiki/Logistic_regression\n",
    "calisma_saati = [0.50, 0.75, 1.00,\n",
    "                 1.25, 1.50, 1.75,\n",
    "                 1.75, 2.00, 2.25,\n",
    "                 2.50, 2.75, 3.00,\n",
    "                 3.25, 3.50, 4.00,\n",
    "                 4.25, 4.50, 4.75,\n",
    "                 5.00, 5.50]\n",
    "sinavi_gecti = [0, 0, 0, \n",
    "                0, 0, 0,\n",
    "                1, 0, 1,\n",
    "                0, 1, 0,\n",
    "                1, 0, 1,\n",
    "                1, 1, 1,\n",
    "                1, 1]"
   ]
  },
  {
   "cell_type": "code",
   "execution_count": 40,
   "metadata": {},
   "outputs": [
    {
     "name": "stdout",
     "output_type": "stream",
     "text": [
      "[0.62245933 0.6791787  0.73105858 0.77729986 0.81757448 0.8519528\n",
      " 0.8519528  0.88079708 0.90465054 0.92414182 0.93991335 0.95257413\n",
      " 0.96267311 0.97068777 0.98201379 0.98593637 0.98901306 0.99142251\n",
      " 0.99330715 0.99592986]\n"
     ]
    },
    {
     "data": {
      "text/plain": [
       "[<matplotlib.lines.Line2D at 0x7fd5e828a2e0>]"
      ]
     },
     "execution_count": 40,
     "metadata": {},
     "output_type": "execute_result"
    },
    {
     "data": {
      "image/png": "[encoded data removed]",
      "text/plain": [
       "<Figure size 432x288 with 1 Axes>"
      ]
     },
     "metadata": {
      "needs_background": "light"
     },
     "output_type": "display_data"
    }
   ],
   "source": [
    "calisma_np = np.array(calisma_saati, dtype=np.float)\n",
    "lojistik_calisma = np.exp(calisma_np) / (1 + np.exp(calisma_np))\n",
    "print(lojistik_calisma)\n",
    "plt.plot(calisma_np, lojistik_calisma)"
   ]
  },
  {
   "cell_type": "markdown",
   "metadata": {},
   "source": [
    "**Dikkat**: Fonksiyonumuzda bir sorun var, zira (0, 1] araliginda degil, (0.5, 1] araliginda çikti veriyor. Neden ? Çunku, lojistik fonksiyon pozitif degerleri 0.5'ten sonra arasina koyuyor, negatif degerleri 0.5'ten onceye koyuyor. \n",
    "Bir ornek ile ne demek istedigimizi gorelim."
   ]
  },
  {
   "cell_type": "code",
   "execution_count": 41,
   "metadata": {},
   "outputs": [
    {
     "data": {
      "text/plain": [
       "[<matplotlib.lines.Line2D at 0x7fd5e891c130>]"
      ]
     },
     "execution_count": 41,
     "metadata": {},
     "output_type": "execute_result"
    },
    {
     "data": {
      "image/png": "[encoded data removed]",
      "text/plain": [
       "<Figure size 432x288 with 1 Axes>"
      ]
     },
     "metadata": {
      "needs_background": "light"
     },
     "output_type": "display_data"
    }
   ],
   "source": [
    "yeni_np = np.array([*range(-15, 15, 1)], dtype=np.float)\n",
    "lojistik_yeni = np.exp(yeni_np) / (1 + np.exp(yeni_np))\n",
    "plt.plot(yeni_np, lojistik_yeni)"
   ]
  },
  {
   "cell_type": "markdown",
   "metadata": {},
   "source": [
    "Örnek problem:\n",
    "\n",
    "Girdiler:\n",
    "\n",
    "- Ogrencilerin çalisma saatleri\n",
    "- Ogrencilerin sinavi geçip geçmedikleri\n",
    "\n",
    "Bu veriler isiginda 7 saat ve 0.34 saat çalisan iki ogrencinin \n",
    "sinavi geçip geçmeyecegini nasil bilebiliriz ?\n",
    "\n",
    "Bu ve bunun gibi girdi ile çikti arasinda dogrudan bir iliski kurulamayan durumlar yukarida bahsettigimiz gerçek hayatta karsilastigimiz durumlara daha yakinlar.\n",
    "\n",
    "Ilgili katmani yazalim:"
   ]
  },
  {
   "cell_type": "code",
   "execution_count": 42,
   "metadata": {},
   "outputs": [],
   "source": [
    "class IkiDegerliOlasilikKatmani(Katman):\n",
    "    def __init__(self, \n",
    "                 girdi: np.ndarray, \n",
    "                 hedef: np.ndarray):\n",
    "        \"iki degerli olasilik katmani\"\n",
    "        #boyut_kontrol(girdi)\n",
    "        self.egim = np.random.uniform(0, 1, size=girdi.shape)\n",
    "        self.sapma = np.random.randn(*hedef.shape)\n",
    "        self.hedef = hedef.copy()\n",
    "        super().__init__(flistesi=[self.skor, self.sigmoid_ln, \n",
    "                                   self.maliyet_fn], girdi=girdi.copy())\n",
    "\n",
    "    def skor(self, x: np.ndarray):\n",
    "        \"mx + b\"\n",
    "        return np.dot(x, self.egim.T) + self.sapma\n",
    "        \n",
    "    def sigmoid_ln(self, x: np.ndarray):\n",
    "        \"lojistik fonksiyon olarak da bilinir\"\n",
    "        return np.exp(x) / (1 + np.exp(x))\n",
    "    \n",
    "    def maliyet_fn(self, x: np.ndarray):\n",
    "        \"\"\"\n",
    "        Fiyat fonksiyonunun geldigi yer:\n",
    "        http://ufldl.stanford.edu/tutorial/supervised/LogisticRegression/\n",
    "        Aciklamasi için\n",
    "        https://en.wikipedia.org/wiki/Cross_entropy\n",
    "        \"\"\"\n",
    "        logit_girdi = self.hedef.dot(np.log(x))\n",
    "        logit_diger = (1 - self.hedef).dot(np.log(1 - x))\n",
    "        return -1 * (logit_girdi + logit_diger).sum() / logit_diger.size\n",
    "        # hata fonksiyonu biter  \n",
    "        \n",
    "    def tahmin(self, x: float):\n",
    "        \"\"\"\n",
    "        Tahmini yaparken dikkate almamiz gereken unsurlar sunlar.\n",
    "        Logit bize pozitif degerler için 0 1 arasi bir deger degil\n",
    "        0.5 - 1 arasi bir deger veriyor. Dolayisiyla\n",
    "        eger girdilerimizin tamami pozitif ise, logit'in bize verdigi\n",
    "        aralik (0.5 - 1] araligi olacak.\n",
    "        Bizim 0.5 degerini bir geçit gibi kullanabilmemiz için lojistikten\n",
    "        gelen çiktiyi (0, 1] alanina çekmeliyiz.\n",
    "        \"\"\"\n",
    "        # self.hesapla()\n",
    "        thm = self.sigmoid_ln(self.skor(x))\n",
    "        thm1 = np.interp(thm, [0.5, 1], [0, 1])        \n",
    "        return 0 if thm1.max() <= 0.5 else 1"
   ]
  },
  {
   "cell_type": "code",
   "execution_count": 43,
   "metadata": {},
   "outputs": [],
   "source": [
    "def turev_farki_indir_katman(girdi_: np.ndarray, \n",
    "                             hedef_: np.ndarray,\n",
    "                             katmanTipi=\"ikidegerli\",\n",
    "                             basamak=0.01, \n",
    "                             kabul_edilebilir_kesinlik=0.00001,\n",
    "                             dongu_sayisi=1000):\n",
    "    if katmanTipi == \"fiyat\":\n",
    "        Katman = FiyatKatmaniSabitBoyut\n",
    "    elif katmanTipi == \"ikidegerli\":\n",
    "        Katman = IkiDegerliOlasilikKatmani\n",
    "    girdi = girdi_.copy()\n",
    "    hedef = hedef_.copy()\n",
    "    katman = Katman(girdi=girdi, hedef=hedef)\n",
    "    egimler = []\n",
    "    sapmalar = []\n",
    "    verilenler = []\n",
    "    alinanlar = []\n",
    "    # pdb.set_trace()\n",
    "    for i in range(dongu_sayisi):\n",
    "        # asil olay\n",
    "        egim = katman.egim\n",
    "        sapma = katman.sapma\n",
    "        katman_turevi = katman.turevi\n",
    "        # jakobi matrisinin çaprazi\n",
    "        # istedigimiz egimi veriyor\n",
    "        # zira lineer fonksiyonlarin kismi turevi\n",
    "        # degerlendirilirken her bir arguman ele alindigindan\n",
    "        # turev matrisi sifirla dolu oluyor\n",
    "        katman_egimi = katman_turevi\n",
    "        #katman_egimi = katman_turevi.diagonal()\n",
    "        katman_egimi = katman_egimi.reshape(*girdi.shape)\n",
    "        #\n",
    "        # isaret eksiden artiya dondu\n",
    "        yeni_egim = egim + basamak * katman_egimi\n",
    "        yeni_sapma = sapma + basamak * (katman.hedef - katman.verdigi)\n",
    "        katman.egim = yeni_egim\n",
    "        katman.sapma = yeni_sapma\n",
    "        #\n",
    "        egimler.append(egim)\n",
    "        sapmalar.append(sapma)\n",
    "        verilenler.append(katman.verdigi)\n",
    "        alinanlar.append(katman.hesaplar[-1].aldigi)\n",
    "        if abs(yeni_egim.sum()) <= kabul_edilebilir_kesinlik:\n",
    "            break\n",
    "        elif abs(yeni_sapma.sum()) <= kabul_edilebilir_kesinlik:\n",
    "            break\n",
    "    return egimler, sapmalar, verilenler, alinanlar, katman"
   ]
  },
  {
   "cell_type": "code",
   "execution_count": 44,
   "metadata": {},
   "outputs": [],
   "source": [
    "veriler = turev_farki_indir_katman(girdi_=np.array([np.array([c]) for c in calisma_saati], dtype=np.float), \n",
    "                                   hedef_=np.array([np.array(s) for s in sinavi_gecti], dtype=np.float), \n",
    "                                   dongu_sayisi=20)\n",
    "katman = veriler[4]"
   ]
  },
  {
   "cell_type": "code",
   "execution_count": 45,
   "metadata": {},
   "outputs": [
    {
     "name": "stdout",
     "output_type": "stream",
     "text": [
      "egimler sekli:  (20, 20, 1)\n",
      "verilenler sekli:  (20,)\n",
      "alinanlar sekli:  (20, 20, 20)\n",
      "sapmalar sekli:  (20, 20)\n"
     ]
    }
   ],
   "source": [
    "hesaplar = [np.array(veriler[0])]\n",
    "hesaplar.insert(1,  np.array(veriler[2]))\n",
    "hesaplar.insert(2,  np.array(veriler[3]))\n",
    "hesaplar.insert(3, np.array(veriler[1]))\n",
    "print(\"egimler sekli: \", hesaplar[0].shape)\n",
    "print(\"verilenler sekli: \", hesaplar[1].shape)\n",
    "print(\"alinanlar sekli: \", hesaplar[2].shape)\n",
    "print(\"sapmalar sekli: \", hesaplar[3]. shape)"
   ]
  },
  {
   "cell_type": "code",
   "execution_count": 46,
   "metadata": {},
   "outputs": [],
   "source": [
    "def hesabi_goster(indeks: int, hesaplar: list, aralik=100, baslangic=0):\n",
    "    fig, axes = plt.subplots(nrows=2, ncols=2)\n",
    "    axes[0, 0].set_title(\"egimler\")\n",
    "    axes[0, 0].plot(hesaplar[0][baslangic:baslangic+aralik, indeks], \"r\")\n",
    "    axes[0, 0].set_xticks(range(baslangic, baslangic+aralik, 10))\n",
    "    axes[0, 1].set_title(\"sapmalar\")\n",
    "    axes[0, 1].plot(hesaplar[3][baslangic:baslangic+aralik, indeks], \n",
    "                    \"g\")\n",
    "    axes[1, 0].set_title(\"verilenler\")\n",
    "    axes[1, 0].set_xticks(range(baslangic, baslangic+aralik, 10))\n",
    "    axes[1, 0].plot(hesaplar[1][baslangic:baslangic+aralik], \"black\",)\n",
    "    axes[1, 1].set_title(\"alinanlar\")\n",
    "    axes[1, 1].set_xticks(range(baslangic, baslangic+aralik, 10))\n",
    "    axes[1, 1].plot(hesaplar[2][baslangic:baslangic+aralik, indeks], \"blue\")\n",
    "    plt.tight_layout(True)\n",
    "    plt.show()"
   ]
  },
  {
   "cell_type": "code",
   "execution_count": 47,
   "metadata": {},
   "outputs": [
    {
     "data": {
      "image/png": "[encoded data removed]",
      "text/plain": [
       "<Figure size 432x288 with 4 Axes>"
      ]
     },
     "metadata": {
      "needs_background": "light"
     },
     "output_type": "display_data"
    }
   ],
   "source": [
    "hesabi_goster(indeks=0, hesaplar=hesaplar, aralik=100, baslangic=0)"
   ]
  },
  {
   "cell_type": "code",
   "execution_count": 48,
   "metadata": {},
   "outputs": [
    {
     "name": "stdout",
     "output_type": "stream",
     "text": [
      "1\n",
      "0\n",
      "1\n"
     ]
    }
   ],
   "source": [
    "# test edelim\n",
    "print(katman.tahmin(np.array(7)))\n",
    "print(katman.tahmin(np.array(1)))\n",
    "print(katman.tahmin(np.array(3.9)))"
   ]
  },
  {
   "cell_type": "markdown",
   "metadata": {},
   "source": [
    "Az once gordugumuz problem de iki tane seçenek vardi. Geçmek ve kalmak.\n",
    "Peki daha fazla seçenek olsa ne olacak ? Degisen neredeyse hiçbir sey yok."
   ]
  },
  {
   "cell_type": "code",
   "execution_count": 49,
   "metadata": {},
   "outputs": [
    {
     "data": {
      "image/png": "[encoded data removed]",
      "text/plain": [
       "<Figure size 432x288 with 1 Axes>"
      ]
     },
     "metadata": {
      "needs_background": "light"
     },
     "output_type": "display_data"
    }
   ],
   "source": [
    "def resim_olustur(satir: np.ndarray):\n",
    "    \"\"\"\n",
    "    mnist_egit verisinden resim olustur\n",
    "    Her satirin ilk hucresi hedef,\n",
    "    diger hucreleri de pixel degerleri.\n",
    "    Toplam resmin boyutu da pixel degerlerinin\n",
    "    bulundugu hucrelerinin toplam sayisinin\n",
    "    kare koku kadar. Neden ?\n",
    "    Çunku eger toplamda 784 pixel varsa,\n",
    "    ve resim kare seklindeyse (ki oyle bunu\n",
    "    veriye iliskin yaptigimiz okumalar sayesinde\n",
    "    ogrenebiliriz) bu toplam sayiya resmin\n",
    "    enini ve boyunu çarparak ulasmisizdir\n",
    "    \"\"\"\n",
    "    hedef = satir[0]\n",
    "    degerler = satir[1:].copy()\n",
    "    toplam_sayi = degerler.size\n",
    "    en_boy_deger = np.sqrt(toplam_sayi)\n",
    "    en_boy_deger = en_boy_deger.astype(np.int)\n",
    "    degerler = degerler.reshape((en_boy_deger, en_boy_deger))\n",
    "    return hedef, degerler\n",
    "\n",
    "def resmi_goster(satir: np.ndarray):\n",
    "    \"olusturacagimiz resmi gosterelim\"\n",
    "    hedef, resim = resim_olustur(satir)\n",
    "    hedefstr = str(hedef)\n",
    "    plt.imshow(resim, cmap=\"gray\")\n",
    "    plt.title(hedefstr, color=\"red\",fontsize=25)\n",
    "    plt.plot()\n",
    "    \n",
    "resmi_goster(mnist_egit[3])"
   ]
  },
  {
   "cell_type": "code",
   "execution_count": 60,
   "metadata": {},
   "outputs": [],
   "source": [
    "class CokDegerliOlasilikKatmani(Katman):\n",
    "    def __init__(self, \n",
    "                 girdi: np.ndarray, \n",
    "                 hedef: np.ndarray):\n",
    "        \"iki degerli olasilik katmani\"\n",
    "        # girdi.shape == ornek_sayisi, ornek_ozellikleri \n",
    "        # hedef.shape == ornek_sayisi\n",
    "        #boyut_kontrol(girdi)\n",
    "        print(girdi.shape)\n",
    "        gr = girdi.reshape(-1)\n",
    "        gr = np.interp(gr, [gr.min(), gr.max()], [0, 1])\n",
    "        gr = gr.reshape(*girdi.shape)\n",
    "        self.hedef_asil = hedef.copy()\n",
    "        self.etiketler = np.unique(hedef)\n",
    "        self.etiket_sayisi = len(self.etiketler)\n",
    "        # gosterge fonksiyonu için one hot encoding\n",
    "        hedef_ = np.eye(self.etiket_sayisi)\n",
    "        enc = {self.etiketler[i]:hedef_[i] for i in range(self.etiket_sayisi)}\n",
    "        hedef_ = [enc[h] for h in self.hedef_asil]\n",
    "        #\n",
    "        self.hedef = np.array(hedef_, dtype=np.int)\n",
    "        hshape = self.hedef.shape\n",
    "        #print(self.hedef)\n",
    "        self.sapma = np.random.uniform(0, 1, size=hshape)\n",
    "        self.egim = np.random.uniform(0, 1, size=(girdi.shape[1], self.etiket_sayisi))\n",
    "        #self.egim = np.random.uniform(0, 1, size=girdi.shape)\n",
    "        super().__init__(flistesi=[self.mx, self.arti_b, self.multi_sigmoid_ln, \n",
    "                                   self.maliyet_fn], girdi=gr.copy())\n",
    "        \n",
    "    def mx(self, x: np.ndarray):\n",
    "        \"skorun mx bolumu\"\n",
    "        # turevi alininca beklenileni vermiyor çunku egim bagimli degisken degil\n",
    "        return np.dot(x, self.egim)\n",
    "    \n",
    "    def arti_b(self, x: np.ndarray):\n",
    "        return np.add(x, self.sapma)\n",
    "    \n",
    "    def skor(self, x: np.ndarray):\n",
    "        return x.dot(self.egim) + self.sapma\n",
    "        \n",
    "    def multi_sigmoid_ln(self, x: np.ndarray):\n",
    "        \"softmax olarak da bilinir\"\n",
    "        #print(\"s: \", x.shape)\n",
    "        z = x - x.max(axis=1, keepdims=True) # stabil hespalama için gerekli\n",
    "        # soft argmax = softmax(x + skaler) = softmax(x)\n",
    "        #print(\"z: \", z.shape)\n",
    "        pay = np.exp(z)\n",
    "        payda = pay.sum(axis=1, keepdims=True)\n",
    "        res = pay / payda\n",
    "        # print(res[0, :].sum()) #Hata ayiklama butun sutunlar 1 olmali\n",
    "        # print(\"res:\", res[0, :].sum())\n",
    "        return res\n",
    "    \n",
    "    def etikete_donustur(self, x: np.ndarray):\n",
    "        \"etiketlere donusturme\"\n",
    "        index = x.argmax(axis=1)\n",
    "        print(\"max index: \", index)\n",
    "        print(\"etiketler: \", self.etiketler)\n",
    "        return self.etiketler[index]\n",
    "        \n",
    "    def maliyet_fn(self, x: np.ndarray):\n",
    "        \"\"\"\n",
    "        Fiyat fonksiyonunun geldigi yer:\n",
    "        https://en.wikipedia.org/wiki/Cross_entropy\n",
    "        Neden bu fonksiyon kullaniliyor:\n",
    "        Çunku aradigimiz sey iki olasilik dagilimi arasindaki benzerlik veya farklilik\n",
    "        gosterge fonksiyonu araciligiyla 1-0'a çevirdigimiz\n",
    "        hedef veriseti yaklasmaya çalistigimiz olasilik dagilimi\n",
    "        hesabimiz ise x.\n",
    "        \n",
    "        fonkisyonun alindigi site:\n",
    "        https://mattpetersen.github.io/softmax-with-cross-entropy\n",
    "        \"\"\"\n",
    "        maliyet = np.zeros((x.shape[0]), dtype=np.float)\n",
    "        for i in range(x.shape[0]):\n",
    "            res = self.hedef[i].dot(np.log(x[i]))\n",
    "            maliyet[i] = res\n",
    "            \n",
    "        return -1 * maliyet\n",
    "        # hata fonksiyonu biter\n",
    "        \n",
    "    def tahmin(self, x: np.ndarray):\n",
    "        \"\"\"\n",
    "        x: vektor\n",
    "        \"\"\"\n",
    "        # self.hesapla()\n",
    "        xint = np.interp(x, [x.min(), x.max()], [0, 1])\n",
    "        thm = self.multi_sigmoid_ln(self.skor(x))\n",
    "        # print(\"softmax çiktisi: \", thm)\n",
    "        return thm"
   ]
  },
  {
   "cell_type": "markdown",
   "metadata": {},
   "source": [
    "Artik Mnist veri setini analiz etmek için butun araçlara sahibiz"
   ]
  },
  {
   "cell_type": "code",
   "execution_count": 61,
   "metadata": {},
   "outputs": [],
   "source": [
    "hedefler, girdiler = mnist_egit[:20, 0], mnist_egit[:20, 1:]"
   ]
  },
  {
   "cell_type": "code",
   "execution_count": 62,
   "metadata": {},
   "outputs": [
    {
     "name": "stdout",
     "output_type": "stream",
     "text": [
      "hedeflerin sekli:  (20,)\n",
      "hedeflerin boyutu:  1\n",
      "girdilerin sekli:  (20, 784)\n",
      "girdilerin boyutu:  2\n"
     ]
    }
   ],
   "source": [
    "print(\"hedeflerin sekli: \", hedefler.shape)\n",
    "print(\"hedeflerin boyutu: \", hedefler.ndim)\n",
    "print(\"girdilerin sekli: \", girdiler.shape)\n",
    "print(\"girdilerin boyutu: \", girdiler.ndim)"
   ]
  },
  {
   "cell_type": "code",
   "execution_count": 67,
   "metadata": {},
   "outputs": [],
   "source": [
    "basamak=0.1\n",
    "kabul_edilebilir_kesinlik=0.01\n",
    "dongu_sayisi=50"
   ]
  },
  {
   "cell_type": "code",
   "execution_count": 68,
   "metadata": {},
   "outputs": [
    {
     "name": "stdout",
     "output_type": "stream",
     "text": [
      "(20, 784)\n"
     ]
    }
   ],
   "source": [
    "girdi = girdiler.copy()\n",
    "hedef = hedefler.copy()\n",
    "katman = CokDegerliOlasilikKatmani(girdi=girdi, hedef=hedef)\n",
    "egimler = []\n",
    "sapmalar = []\n",
    "verilenler = []\n",
    "alinanlar = []\n",
    "# pdb.set_trace()\n",
    "for i in range(dongu_sayisi):\n",
    "    # asil olay\n",
    "    egim = katman.egim\n",
    "    sapma = katman.sapma\n",
    "    katman_turevi = katman.turevi\n",
    "    # jakobi matrisinin çaprazi\n",
    "    # istedigimiz egimi veriyor\n",
    "    # zira lineer fonksiyonlarin kismi turevi\n",
    "    # degerlendirilirken her bir arguman ele alindigindan\n",
    "    # turev matrisi sifirla dolu oluyor\n",
    "    katman_egimi = katman_turevi\n",
    "    #katman_egimi = katman_turevi.diagonal()\n",
    "    #pdb.set_trace()\n",
    "\n",
    "    katman_egimi = katman_egimi.reshape((girdi.shape[0], -1, girdi.shape[0]))\n",
    "    katman_egimi = katman_egimi.sum(axis=-1).sum(axis=0)\n",
    "    # isaret eksiden artiya dondu\n",
    "    #pdb.set_trace()\n",
    "    verdigi = katman.verdigi\n",
    "    #print(verdigi.shape)\n",
    "    #print(sapma.shape)\n",
    "    #print(katman.hedef.shape)\n",
    "    fark = katman.hedef.T - verdigi\n",
    "    yeni_egim = egim.T + basamak * katman_egimi\n",
    "    yeni_sapma = sapma + basamak * (katman.hedef.T - verdigi).T\n",
    "    #print(yeni_egim.shape)\n",
    "    katman.egim = yeni_egim.T\n",
    "    katman.sapma = yeni_sapma\n",
    "\n",
    "    #\n",
    "    egimler.append(egim)\n",
    "    sapmalar.append(sapma)\n",
    "    verilenler.append(katman.verdigi)\n",
    "    alinanlar.append(katman.hesaplar[-1].aldigi)\n",
    "    if abs(yeni_egim.sum()) <= kabul_edilebilir_kesinlik:\n",
    "        break\n",
    "    elif abs(yeni_sapma.sum()) <= kabul_edilebilir_kesinlik:\n",
    "        break"
   ]
  },
  {
   "cell_type": "code",
   "execution_count": 69,
   "metadata": {},
   "outputs": [
    {
     "name": "stdout",
     "output_type": "stream",
     "text": [
      "egimler sekli:  (50, 784, 10)\n",
      "verilenler sekli:  (50, 20)\n",
      "alinanlar sekli:  (50, 20, 10)\n",
      "sapmalar sekli:  (50, 20, 10)\n"
     ]
    }
   ],
   "source": [
    "#katman\n",
    "egimler = np.array(egimler)\n",
    "verilenler = np.array(verilenler)\n",
    "alinanlar = np.array(alinanlar)\n",
    "sapmalar = np.array(sapmalar)\n",
    "print(\"egimler sekli: \", egimler.shape)\n",
    "print(\"verilenler sekli: \", verilenler.shape)\n",
    "print(\"alinanlar sekli: \", alinanlar.shape)\n",
    "print(\"sapmalar sekli: \", sapmalar. shape)"
   ]
  },
  {
   "cell_type": "code",
   "execution_count": 70,
   "metadata": {},
   "outputs": [
    {
     "name": "stdout",
     "output_type": "stream",
     "text": [
      "(50,)\n"
     ]
    },
    {
     "data": {
      "text/plain": [
       "[<matplotlib.lines.Line2D at 0x7fd5e8990160>]"
      ]
     },
     "execution_count": 70,
     "metadata": {},
     "output_type": "execute_result"
    },
    {
     "data": {
      "image/png": "[encoded data removed]",
      "text/plain": [
       "<Figure size 432x288 with 1 Axes>"
      ]
     },
     "metadata": {
      "needs_background": "light"
     },
     "output_type": "display_data"
    }
   ],
   "source": [
    "vsu = verilenler.sum(axis=1)\n",
    "print(vsu.shape)\n",
    "plt.plot(verilenler.sum(axis=1))"
   ]
  },
  {
   "cell_type": "code",
   "execution_count": 77,
   "metadata": {},
   "outputs": [],
   "source": [
    "thmin = katman.tahmin(mnist_egit[5, 1:])"
   ]
  },
  {
   "cell_type": "code",
   "execution_count": 78,
   "metadata": {},
   "outputs": [
    {
     "name": "stdout",
     "output_type": "stream",
     "text": [
      "(20, 10)\n",
      "[8 8 8 8 8 8 8 8 8 8 8 8 8 8 8 8 8 8 8 8]\n",
      "[0. 1. 2. 3. 4. 5. 6. 7. 8. 9.]\n",
      "8.0\n"
     ]
    }
   ],
   "source": [
    "print(thmin.shape)\n",
    "tahmin_argmax = thmin.argmax(axis=1)\n",
    "print(tahmin_argmax)\n",
    "print(katman.etiketler)\n",
    "print(katman.etiketler[tahmin_argmax.max()])"
   ]
  },
  {
   "cell_type": "code",
   "execution_count": 79,
   "metadata": {},
   "outputs": [
    {
     "data": {
      "image/png": "[encoded data removed]",
      "text/plain": [
       "<Figure size 432x288 with 1 Axes>"
      ]
     },
     "metadata": {
      "needs_background": "light"
     },
     "output_type": "display_data"
    }
   ],
   "source": [
    "resmi_goster(mnist_egit[5])"
   ]
  },
  {
   "cell_type": "code",
   "execution_count": null,
   "metadata": {},
   "outputs": [],
   "source": []
  },
  {
   "cell_type": "code",
   "execution_count": null,
   "metadata": {},
   "outputs": [],
   "source": []
  },
  {
   "cell_type": "code",
   "execution_count": null,
   "metadata": {},
   "outputs": [],
   "source": []
  },
  {
   "cell_type": "code",
   "execution_count": null,
   "metadata": {},
   "outputs": [],
   "source": []
  }
 ],
 "metadata": {
  "kernelspec": {
   "display_name": "Python 3",
   "language": "python",
   "name": "python3"
  },
  "language_info": {
   "codemirror_mode": {
    "name": "ipython",
    "version": 3
   },
   "file_extension": ".py",
   "mimetype": "text/x-python",
   "name": "python",
   "nbconvert_exporter": "python",
   "pygments_lexer": "ipython3",
   "version": "3.8.2"
  }
 },
 "nbformat": 4,
 "nbformat_minor": 2
}
